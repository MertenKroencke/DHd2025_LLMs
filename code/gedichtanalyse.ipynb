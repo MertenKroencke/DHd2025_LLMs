{
 "cells": [
  {
   "cell_type": "markdown",
   "id": "edbf3d73-b5bd-4aa2-8860-e213e70d7860",
   "metadata": {},
   "source": [
    "# Gedichte, Dramen, Prosa 1850-1920\n"
   ]
  },
  {
   "cell_type": "code",
   "execution_count": 2,
   "id": "9e531d20-597f-4d08-b4ab-7e95e717c9fb",
   "metadata": {},
   "outputs": [],
   "source": [
    "import re\n",
    "from collections import Counter\n",
    "from pathlib import Path\n",
    "import time\n",
    "from itertools import combinations\n",
    "\n",
    "import matplotlib.pyplot as plt\n",
    "import pandas as pd\n",
    "import seaborn as sns\n",
    "import numpy as np\n",
    "\n",
    "from tqdm.notebook import tqdm_notebook\n",
    "\n",
    "from langchain_google_genai import ChatGoogleGenerativeAI\n",
    "from langchain_openai import ChatOpenAI\n",
    "from langchain_anthropic import ChatAnthropic\n",
    "from langchain_community.chat_models import ChatOllama\n",
    "from langchain_core.prompts import ChatPromptTemplate\n",
    "from langchain_core.output_parsers import StrOutputParser\n",
    "\n",
    "from sklearn.metrics import classification_report, accuracy_score, confusion_matrix, f1_score\n",
    "import sklearn.metrics as sm\n",
    "from sklearn.preprocessing import MultiLabelBinarizer\n",
    "\n",
    "#import keys  #sets keys for accessing the LLMs"
   ]
  },
  {
   "cell_type": "code",
   "execution_count": 6,
   "id": "2d291931-47bf-4062-b5a1-01a82c22af6d",
   "metadata": {},
   "outputs": [],
   "source": [
    "#path to data files\n",
    "data_dir = Path('../resources')"
   ]
  },
  {
   "cell_type": "code",
   "execution_count": 7,
   "id": "8970e3f3-e8ae-444d-86b6-7117e6ec044f",
   "metadata": {
    "lines_to_next_cell": 2
   },
   "outputs": [],
   "source": [
    "#some functions we need later on\n",
    "def date_string():\n",
    "    t = time.ctime().split(' ')\n",
    "    h,m,s = t[3].split(':')\n",
    "    return f\"{t[4]}_{t[1]}_{t[2]}_{h}_{m}\"\n",
    "\n",
    "\n",
    "def get_poem(path, filename):\n",
    "    try:\n",
    "        with open(path / filename) as fin:\n",
    "            return fin.read()\n",
    "    except FileNotFoundError:\n",
    "        print(f\"ERROR: Couldn't find file {filename}\")\n",
    "\n",
    "\n",
    "def vote(series):\n",
    "    data = Counter(series)\n",
    "    return data.most_common(1)[0][0]\n",
    "\n",
    "def compute_ensemble(df):\n",
    "    \"\"\"\n",
    "    computes the voting results for a dataframe\n",
    "    assumes columns for gpt4o, gemini, claude \n",
    "    \"\"\"\n",
    "    ensemble = []\n",
    "    for i, row in df.iterrows():\n",
    "        ensemble.append(vote([row.gpt4o, row.gemini, row.claude]))\n",
    "    return ensemble\n",
    "\n",
    "\n",
    "def add_labels(df):\n",
    "    #add the emotion labels to the data. makes eval easier\n",
    "    labels = []\n",
    "    for lnr, row in df.iterrows():\n",
    "        label = []\n",
    "        if row.Agitation > 0.0: \n",
    "            label.append('AGITATION')\n",
    "        if row.Anger > 0.0: \n",
    "            label.append('ANGER')\n",
    "        if row.Fear > 0.0: \n",
    "            label.append('FEAR')\n",
    "        if row.Joy > 0.0: \n",
    "            label.append('JOY')\n",
    "        if row.Love > 0.0: \n",
    "            label.append('LOVE')\n",
    "        if row.Sadness > 0.0: \n",
    "            label.append('SADNESS')\n",
    "        if (row.Agitation==0.0) & (row.Anger==0.0) & (row.Fear==0.0) & (row.Joy==0.0) & (row.Love==0.0) & (row.Sadness==0.0):\n",
    "            label.append('NONE')\n",
    "        labels.append(\"#\".join(label))\n",
    "    \n",
    "    df['label'] = labels\n",
    "    return df\n",
    "\n",
    "\n",
    "# how many poems do we have with no emotions at all?\n",
    "def no_emotions(df, sample_size=None):\n",
    "    values = 6*[0]\n",
    "    df_tmp = df.query(f\"Agitation=={values[0]} and \\\n",
    "                         Anger=={values[1]} and \\\n",
    "                         Fear=={values[2]} and \\\n",
    "                         Joy=={values[3]} and \\\n",
    "                         Love=={values[4]} and \\\n",
    "                         Sadness=={values[5]}\")\n",
    "    if sample_size == 'max':    \n",
    "        return df_tmp.sample(n=len(df_tmp), random_state=42)\n",
    "    else:\n",
    "        return df_tmp.sample(n=sample_size, random_state=42)\n",
    "\n",
    "#cleanup\n",
    "def extract_terms(series):\n",
    "    buffer = series.str.findall(f\"ANNOTATION: ([A-Z#]+)\")\n",
    "    buffer_ = pd.Series([e[0] if len(e) > 0 else e for e in buffer.values])\n",
    "    return buffer_.str.split('#').values\n",
    "\n"
   ]
  },
  {
   "cell_type": "markdown",
   "id": "316e889a-8c3e-4868-af95-39a88cc7e85a",
   "metadata": {
    "lines_to_next_cell": 0
   },
   "source": [
    "# LLMs as annotators\n",
    "## Data preparation "
   ]
  },
  {
   "cell_type": "code",
   "execution_count": 8,
   "id": "4a2b28f2-767a-4476-a112-35d9cc210a44",
   "metadata": {},
   "outputs": [
    {
     "data": {
      "text/html": [
       "<div>\n",
       "<style scoped>\n",
       "    .dataframe tbody tr th:only-of-type {\n",
       "        vertical-align: middle;\n",
       "    }\n",
       "\n",
       "    .dataframe tbody tr th {\n",
       "        vertical-align: top;\n",
       "    }\n",
       "\n",
       "    .dataframe thead th {\n",
       "        text-align: right;\n",
       "    }\n",
       "</style>\n",
       "<table border=\"1\" class=\"dataframe\">\n",
       "  <thead>\n",
       "    <tr style=\"text-align: right;\">\n",
       "      <th></th>\n",
       "      <th>DocName</th>\n",
       "      <th>Text</th>\n",
       "      <th>Freude</th>\n",
       "      <th>Glück</th>\n",
       "      <th>Hoffnung</th>\n",
       "      <th>Geborgenheit</th>\n",
       "      <th>Begeisterung</th>\n",
       "      <th>Stolz</th>\n",
       "      <th>Trost</th>\n",
       "      <th>Ausgeglichenheit</th>\n",
       "      <th>...</th>\n",
       "      <th>Agitation</th>\n",
       "      <th>Sadness</th>\n",
       "      <th>Love</th>\n",
       "      <th>Joy</th>\n",
       "      <th>Anger</th>\n",
       "      <th>Fear</th>\n",
       "      <th>Gattung</th>\n",
       "      <th>Ungewissheit</th>\n",
       "      <th>Context</th>\n",
       "      <th>ID</th>\n",
       "    </tr>\n",
       "  </thead>\n",
       "  <tbody>\n",
       "    <tr>\n",
       "      <th>0</th>\n",
       "      <td>Am Morgen Lingg, Hermann l0080333</td>\n",
       "      <td>Am Morgen\\nLingg, Hermann</td>\n",
       "      <td>0.0</td>\n",
       "      <td>0.0</td>\n",
       "      <td>0.0</td>\n",
       "      <td>0.0</td>\n",
       "      <td>0.0</td>\n",
       "      <td>0.0</td>\n",
       "      <td>0.0</td>\n",
       "      <td>0.0</td>\n",
       "      <td>...</td>\n",
       "      <td>0.0</td>\n",
       "      <td>0.0</td>\n",
       "      <td>0.0</td>\n",
       "      <td>0.0</td>\n",
       "      <td>0.0</td>\n",
       "      <td>0.0</td>\n",
       "      <td>Lyrik</td>\n",
       "      <td>0.0</td>\n",
       "      <td>Am Morgen\\nLingg, Hermann</td>\n",
       "      <td>l0080333</td>\n",
       "    </tr>\n",
       "    <tr>\n",
       "      <th>1</th>\n",
       "      <td>Am Morgen Lingg, Hermann l0080333</td>\n",
       "      <td>Ich sah dich im azurnen Schleier,\\nIn deinen R...</td>\n",
       "      <td>0.0</td>\n",
       "      <td>0.0</td>\n",
       "      <td>0.0</td>\n",
       "      <td>0.0</td>\n",
       "      <td>0.0</td>\n",
       "      <td>0.0</td>\n",
       "      <td>0.0</td>\n",
       "      <td>0.0</td>\n",
       "      <td>...</td>\n",
       "      <td>0.0</td>\n",
       "      <td>0.0</td>\n",
       "      <td>0.0</td>\n",
       "      <td>0.0</td>\n",
       "      <td>0.0</td>\n",
       "      <td>0.0</td>\n",
       "      <td>Lyrik</td>\n",
       "      <td>0.0</td>\n",
       "      <td>Am Morgen\\nLingg, Hermann Ich sah dich im azur...</td>\n",
       "      <td>l0080333</td>\n",
       "    </tr>\n",
       "    <tr>\n",
       "      <th>2</th>\n",
       "      <td>Am Morgen Lingg, Hermann l0080333</td>\n",
       "      <td>Im Lichte deiner Sterne wähnen\\nDie treuen Bli...</td>\n",
       "      <td>0.0</td>\n",
       "      <td>0.0</td>\n",
       "      <td>0.0</td>\n",
       "      <td>0.0</td>\n",
       "      <td>0.0</td>\n",
       "      <td>0.0</td>\n",
       "      <td>1.0</td>\n",
       "      <td>0.0</td>\n",
       "      <td>...</td>\n",
       "      <td>0.0</td>\n",
       "      <td>1.0</td>\n",
       "      <td>0.0</td>\n",
       "      <td>1.0</td>\n",
       "      <td>0.0</td>\n",
       "      <td>0.0</td>\n",
       "      <td>Lyrik</td>\n",
       "      <td>0.0</td>\n",
       "      <td>Am Morgen\\nLingg, Hermann Ich sah dich im azur...</td>\n",
       "      <td>l0080333</td>\n",
       "    </tr>\n",
       "    <tr>\n",
       "      <th>3</th>\n",
       "      <td>Am Morgen Lingg, Hermann l0080333</td>\n",
       "      <td>Und eine Hand im Schatten gleitet\\nHerüber aus...</td>\n",
       "      <td>0.0</td>\n",
       "      <td>0.0</td>\n",
       "      <td>0.0</td>\n",
       "      <td>0.0</td>\n",
       "      <td>0.0</td>\n",
       "      <td>0.0</td>\n",
       "      <td>0.0</td>\n",
       "      <td>0.0</td>\n",
       "      <td>...</td>\n",
       "      <td>0.0</td>\n",
       "      <td>1.0</td>\n",
       "      <td>0.0</td>\n",
       "      <td>0.0</td>\n",
       "      <td>0.0</td>\n",
       "      <td>0.0</td>\n",
       "      <td>Lyrik</td>\n",
       "      <td>0.0</td>\n",
       "      <td>Am Morgen\\nLingg, Hermann Ich sah dich im azur...</td>\n",
       "      <td>l0080333</td>\n",
       "    </tr>\n",
       "    <tr>\n",
       "      <th>7</th>\n",
       "      <td>PHANTASIE WILHELM KLEMM l00300187</td>\n",
       "      <td>PHANTASIE</td>\n",
       "      <td>0.0</td>\n",
       "      <td>0.0</td>\n",
       "      <td>0.0</td>\n",
       "      <td>0.0</td>\n",
       "      <td>0.0</td>\n",
       "      <td>0.0</td>\n",
       "      <td>0.0</td>\n",
       "      <td>0.0</td>\n",
       "      <td>...</td>\n",
       "      <td>0.0</td>\n",
       "      <td>0.0</td>\n",
       "      <td>0.0</td>\n",
       "      <td>0.0</td>\n",
       "      <td>0.0</td>\n",
       "      <td>0.0</td>\n",
       "      <td>Lyrik</td>\n",
       "      <td>0.0</td>\n",
       "      <td>PHANTASIE</td>\n",
       "      <td>l00300187</td>\n",
       "    </tr>\n",
       "  </tbody>\n",
       "</table>\n",
       "<p>5 rows × 53 columns</p>\n",
       "</div>"
      ],
      "text/plain": [
       "                             DocName  \\\n",
       "0  Am Morgen Lingg, Hermann l0080333   \n",
       "1  Am Morgen Lingg, Hermann l0080333   \n",
       "2  Am Morgen Lingg, Hermann l0080333   \n",
       "3  Am Morgen Lingg, Hermann l0080333   \n",
       "7  PHANTASIE WILHELM KLEMM l00300187   \n",
       "\n",
       "                                                Text  Freude  Glück  Hoffnung  \\\n",
       "0                          Am Morgen\\nLingg, Hermann     0.0    0.0       0.0   \n",
       "1  Ich sah dich im azurnen Schleier,\\nIn deinen R...     0.0    0.0       0.0   \n",
       "2  Im Lichte deiner Sterne wähnen\\nDie treuen Bli...     0.0    0.0       0.0   \n",
       "3  Und eine Hand im Schatten gleitet\\nHerüber aus...     0.0    0.0       0.0   \n",
       "7                                          PHANTASIE     0.0    0.0       0.0   \n",
       "\n",
       "   Geborgenheit  Begeisterung  Stolz  Trost  Ausgeglichenheit  ...  Agitation  \\\n",
       "0           0.0           0.0    0.0    0.0               0.0  ...        0.0   \n",
       "1           0.0           0.0    0.0    0.0               0.0  ...        0.0   \n",
       "2           0.0           0.0    0.0    1.0               0.0  ...        0.0   \n",
       "3           0.0           0.0    0.0    0.0               0.0  ...        0.0   \n",
       "7           0.0           0.0    0.0    0.0               0.0  ...        0.0   \n",
       "\n",
       "   Sadness  Love  Joy  Anger  Fear  Gattung  Ungewissheit  \\\n",
       "0      0.0   0.0  0.0    0.0   0.0    Lyrik           0.0   \n",
       "1      0.0   0.0  0.0    0.0   0.0    Lyrik           0.0   \n",
       "2      1.0   0.0  1.0    0.0   0.0    Lyrik           0.0   \n",
       "3      1.0   0.0  0.0    0.0   0.0    Lyrik           0.0   \n",
       "7      0.0   0.0  0.0    0.0   0.0    Lyrik           0.0   \n",
       "\n",
       "                                             Context         ID  \n",
       "0                          Am Morgen\\nLingg, Hermann   l0080333  \n",
       "1  Am Morgen\\nLingg, Hermann Ich sah dich im azur...   l0080333  \n",
       "2  Am Morgen\\nLingg, Hermann Ich sah dich im azur...   l0080333  \n",
       "3  Am Morgen\\nLingg, Hermann Ich sah dich im azur...   l0080333  \n",
       "7                                          PHANTASIE  l00300187  \n",
       "\n",
       "[5 rows x 53 columns]"
      ]
     },
     "execution_count": 8,
     "metadata": {},
     "output_type": "execute_result"
    }
   ],
   "source": [
    "df = pd.read_csv(data_dir / 'lyrik_shaver_stanza.csv', sep='\\t', index_col=0)\n",
    "df.head()"
   ]
  },
  {
   "cell_type": "code",
   "execution_count": 9,
   "id": "4aa19761-01c6-4058-9463-ccad06961a4f",
   "metadata": {},
   "outputs": [
    {
     "data": {
      "text/plain": [
       "{'Agitation': 332.0,\n",
       " 'Anger': 344.0,\n",
       " 'Fear': 285.0,\n",
       " 'Joy': 1772.0,\n",
       " 'Love': 1577.0,\n",
       " 'Sadness': 1670.0}"
      ]
     },
     "execution_count": 9,
     "metadata": {},
     "output_type": "execute_result"
    }
   ],
   "source": [
    "#look at the distributions of the emotions\n",
    "results = {}\n",
    "emotions = ['Agitation', 'Anger', 'Fear', 'Joy', 'Love', 'Sadness']\n",
    "for emotion in emotions:\n",
    "    results[emotion] = df[emotion].sum()\n",
    "results    "
   ]
  },
  {
   "cell_type": "code",
   "execution_count": 10,
   "id": "cff631d9-fe16-482a-9db2-5965a5d8c070",
   "metadata": {},
   "outputs": [
    {
     "name": "stdout",
     "output_type": "stream",
     "text": [
      "('Agitation', 'Anger') - 17\n",
      "('Agitation', 'Fear') - 19\n",
      "('Agitation', 'Joy') - 93\n",
      "('Agitation', 'Love') - 91\n",
      "('Agitation', 'Sadness') - 78\n",
      "('Anger', 'Fear') - 36\n",
      "('Anger', 'Joy') - 95\n",
      "('Anger', 'Love') - 108\n",
      "('Anger', 'Sadness') - 115\n",
      "('Fear', 'Joy') - 90\n",
      "('Fear', 'Love') - 72\n",
      "('Fear', 'Sadness') - 113\n",
      "('Joy', 'Love') - 537\n",
      "('Joy', 'Sadness') - 597\n",
      "('Love', 'Sadness') - 490\n"
     ]
    }
   ],
   "source": [
    "#what kind of combinations do we have (limit to 2)\n",
    "\n",
    "for e in combinations(emotions, 2):\n",
    "    print(f\"{e} - {df.DocName[(df[e[0]] == 1.0) & (df[e[1]]==1.0)].count()}\")"
   ]
  },
  {
   "cell_type": "markdown",
   "id": "984a39a4-6eb6-412b-8a05-a2ed26fcdf3b",
   "metadata": {},
   "source": [
    "### Stratified Sampling"
   ]
  },
  {
   "cell_type": "code",
   "execution_count": 15,
   "id": "309bb189-1df1-4456-957d-08e75f37414a",
   "metadata": {},
   "outputs": [],
   "source": [
    "SAMPLE_SIZE = 50  #sample size per emotion/None\n",
    "samples = []\n",
    "#sample n from each emotion\n",
    "for e in emotions:\n",
    "    samples.append(df[df[e] == 1.0].sample(n=SAMPLE_SIZE, random_state=45))\n",
    "\n",
    "#sample n text segments without any emotions\n",
    "samples.append(df[(df.Agitation==0.0) & (df.Anger==0.0) & (df.Fear==0.0) & (df.Joy==0.0) & (df.Love==0.0) & (df.Sadness==0.0)].sample(n=SAMPLE_SIZE, random_state=42))\n",
    "\n",
    "df_strat = pd.concat(samples)   \n",
    "\n",
    "#randomize sequence of rows\n",
    "df_strat = df_strat.sample(n=len(df_strat), random_state=42)  \n"
   ]
  },
  {
   "cell_type": "code",
   "execution_count": 16,
   "id": "fc6be779-0961-4abe-81ff-1840547e2c67",
   "metadata": {},
   "outputs": [
    {
     "data": {
      "text/html": [
       "<div>\n",
       "<style scoped>\n",
       "    .dataframe tbody tr th:only-of-type {\n",
       "        vertical-align: middle;\n",
       "    }\n",
       "\n",
       "    .dataframe tbody tr th {\n",
       "        vertical-align: top;\n",
       "    }\n",
       "\n",
       "    .dataframe thead th {\n",
       "        text-align: right;\n",
       "    }\n",
       "</style>\n",
       "<table border=\"1\" class=\"dataframe\">\n",
       "  <thead>\n",
       "    <tr style=\"text-align: right;\">\n",
       "      <th></th>\n",
       "      <th>DocName</th>\n",
       "      <th>Text</th>\n",
       "      <th>Agitation</th>\n",
       "      <th>Anger</th>\n",
       "      <th>Fear</th>\n",
       "      <th>Joy</th>\n",
       "      <th>Love</th>\n",
       "      <th>Sadness</th>\n",
       "      <th>Context</th>\n",
       "      <th>ID</th>\n",
       "      <th>label</th>\n",
       "    </tr>\n",
       "  </thead>\n",
       "  <tbody>\n",
       "    <tr>\n",
       "      <th>1269</th>\n",
       "      <td>DAS BAD AUF DEM LANDE MAX BROD l0029012</td>\n",
       "      <td>Ihr Glücklichen! — Ich sah das Liebespaar,\\nDa...</td>\n",
       "      <td>0.0</td>\n",
       "      <td>0.0</td>\n",
       "      <td>0.0</td>\n",
       "      <td>1.0</td>\n",
       "      <td>1.0</td>\n",
       "      <td>0.0</td>\n",
       "      <td>DAS BAD AUF DEM LANDE Ihr Glücklichen! — Ich s...</td>\n",
       "      <td>l0029012</td>\n",
       "      <td>JOY#LOVE</td>\n",
       "    </tr>\n",
       "    <tr>\n",
       "      <th>4189</th>\n",
       "      <td>Papa Opitz: Schlaf, Johannes</td>\n",
       "      <td>Papa Opitz:\\nSchlaf, Johannes</td>\n",
       "      <td>0.0</td>\n",
       "      <td>0.0</td>\n",
       "      <td>0.0</td>\n",
       "      <td>0.0</td>\n",
       "      <td>0.0</td>\n",
       "      <td>0.0</td>\n",
       "      <td>Papa Opitz:\\nSchlaf, Johannes</td>\n",
       "      <td>l00100092</td>\n",
       "      <td>NONE</td>\n",
       "    </tr>\n",
       "    <tr>\n",
       "      <th>1990</th>\n",
       "      <td>Nachtigallenlied Leander, Richard</td>\n",
       "      <td>Nachtigallenlied\\nLeander, Richard</td>\n",
       "      <td>0.0</td>\n",
       "      <td>0.0</td>\n",
       "      <td>0.0</td>\n",
       "      <td>0.0</td>\n",
       "      <td>0.0</td>\n",
       "      <td>0.0</td>\n",
       "      <td>Nachtigallenlied\\nLeander, Richard</td>\n",
       "      <td>l0010130</td>\n",
       "      <td>NONE</td>\n",
       "    </tr>\n",
       "    <tr>\n",
       "      <th>2252</th>\n",
       "      <td>Erst seit Du mein geworden Berthold, Gustav</td>\n",
       "      <td>Erst seit Du mein geworden,\\nDäucht mir das Le...</td>\n",
       "      <td>0.0</td>\n",
       "      <td>0.0</td>\n",
       "      <td>0.0</td>\n",
       "      <td>1.0</td>\n",
       "      <td>1.0</td>\n",
       "      <td>0.0</td>\n",
       "      <td>Erst seit Du mein geworden\\nBerthold, Gustav E...</td>\n",
       "      <td>l0080056</td>\n",
       "      <td>JOY#LOVE</td>\n",
       "    </tr>\n",
       "    <tr>\n",
       "      <th>6571</th>\n",
       "      <td>Sehnsucht Weiß, Emil Rudolf</td>\n",
       "      <td>Schmerz und Trost der Schmerzen,\\nbist in eine...</td>\n",
       "      <td>0.0</td>\n",
       "      <td>0.0</td>\n",
       "      <td>0.0</td>\n",
       "      <td>1.0</td>\n",
       "      <td>0.0</td>\n",
       "      <td>1.0</td>\n",
       "      <td>Sehnsucht\\nWeiß, Emil Rudolf Oft am langen Tag...</td>\n",
       "      <td>l0030432</td>\n",
       "      <td>JOY#SADNESS</td>\n",
       "    </tr>\n",
       "  </tbody>\n",
       "</table>\n",
       "</div>"
      ],
      "text/plain": [
       "                                          DocName  \\\n",
       "1269      DAS BAD AUF DEM LANDE MAX BROD l0029012   \n",
       "4189                 Papa Opitz: Schlaf, Johannes   \n",
       "1990            Nachtigallenlied Leander, Richard   \n",
       "2252  Erst seit Du mein geworden Berthold, Gustav   \n",
       "6571                  Sehnsucht Weiß, Emil Rudolf   \n",
       "\n",
       "                                                   Text  Agitation  Anger  \\\n",
       "1269  Ihr Glücklichen! — Ich sah das Liebespaar,\\nDa...        0.0    0.0   \n",
       "4189                      Papa Opitz:\\nSchlaf, Johannes        0.0    0.0   \n",
       "1990                 Nachtigallenlied\\nLeander, Richard        0.0    0.0   \n",
       "2252  Erst seit Du mein geworden,\\nDäucht mir das Le...        0.0    0.0   \n",
       "6571  Schmerz und Trost der Schmerzen,\\nbist in eine...        0.0    0.0   \n",
       "\n",
       "      Fear  Joy  Love  Sadness  \\\n",
       "1269   0.0  1.0   1.0      0.0   \n",
       "4189   0.0  0.0   0.0      0.0   \n",
       "1990   0.0  0.0   0.0      0.0   \n",
       "2252   0.0  1.0   1.0      0.0   \n",
       "6571   0.0  1.0   0.0      1.0   \n",
       "\n",
       "                                                Context         ID  \\\n",
       "1269  DAS BAD AUF DEM LANDE Ihr Glücklichen! — Ich s...   l0029012   \n",
       "4189                      Papa Opitz:\\nSchlaf, Johannes  l00100092   \n",
       "1990                 Nachtigallenlied\\nLeander, Richard   l0010130   \n",
       "2252  Erst seit Du mein geworden\\nBerthold, Gustav E...   l0080056   \n",
       "6571  Sehnsucht\\nWeiß, Emil Rudolf Oft am langen Tag...   l0030432   \n",
       "\n",
       "            label  \n",
       "1269     JOY#LOVE  \n",
       "4189         NONE  \n",
       "1990         NONE  \n",
       "2252     JOY#LOVE  \n",
       "6571  JOY#SADNESS  "
      ]
     },
     "execution_count": 16,
     "metadata": {},
     "output_type": "execute_result"
    }
   ],
   "source": [
    "df_strat = add_labels(df_strat)\n",
    "df_strat.to_csv(data_dir / 'data_stratified_sampling.tsv', sep='\\t')\n",
    "df_strat.head()"
   ]
  },
  {
   "cell_type": "markdown",
   "id": "c6aeaa11-9a52-4f0d-8849-1c5faecf700c",
   "metadata": {},
   "source": [
    "### General Sampling"
   ]
  },
  {
   "cell_type": "code",
   "execution_count": 14,
   "id": "b44f2963-e89b-4db5-9731-2ddc9e74b087",
   "metadata": {},
   "outputs": [
    {
     "data": {
      "text/html": [
       "<div>\n",
       "<style scoped>\n",
       "    .dataframe tbody tr th:only-of-type {\n",
       "        vertical-align: middle;\n",
       "    }\n",
       "\n",
       "    .dataframe tbody tr th {\n",
       "        vertical-align: top;\n",
       "    }\n",
       "\n",
       "    .dataframe thead th {\n",
       "        text-align: right;\n",
       "    }\n",
       "</style>\n",
       "<table border=\"1\" class=\"dataframe\">\n",
       "  <thead>\n",
       "    <tr style=\"text-align: right;\">\n",
       "      <th></th>\n",
       "      <th>DocName</th>\n",
       "      <th>Text</th>\n",
       "      <th>Agitation</th>\n",
       "      <th>Anger</th>\n",
       "      <th>Fear</th>\n",
       "      <th>Joy</th>\n",
       "      <th>Love</th>\n",
       "      <th>Sadness</th>\n",
       "      <th>Context</th>\n",
       "      <th>ID</th>\n",
       "      <th>label</th>\n",
       "    </tr>\n",
       "  </thead>\n",
       "  <tbody>\n",
       "    <tr>\n",
       "      <th>5308</th>\n",
       "      <td>Acherontisches Frösteln Liliencron, Detlev von...</td>\n",
       "      <td>Schon nascht der Staar die rote Vogelbeere,\\nZ...</td>\n",
       "      <td>0.0</td>\n",
       "      <td>0.0</td>\n",
       "      <td>0.0</td>\n",
       "      <td>1.0</td>\n",
       "      <td>0.0</td>\n",
       "      <td>1.0</td>\n",
       "      <td>Acherontisches Frösteln\\nLiliencron, Detlev vo...</td>\n",
       "      <td>l00180014</td>\n",
       "      <td>JOY#SADNESS</td>\n",
       "    </tr>\n",
       "    <tr>\n",
       "      <th>4261</th>\n",
       "      <td>Hand in Hand Grosse, Julius [alt. Große, Julius]</td>\n",
       "      <td>Hand in Hand\\nGrosse, Julius [alt. Große, Julius]</td>\n",
       "      <td>0.0</td>\n",
       "      <td>0.0</td>\n",
       "      <td>0.0</td>\n",
       "      <td>0.0</td>\n",
       "      <td>0.0</td>\n",
       "      <td>0.0</td>\n",
       "      <td>Hand in Hand\\nGrosse, Julius [alt. Große, Julius]</td>\n",
       "      <td>l0080170</td>\n",
       "      <td>NONE</td>\n",
       "    </tr>\n",
       "    <tr>\n",
       "      <th>6542</th>\n",
       "      <td>Ballade Des Äusseren Lebens Hofmannsthal, Hugo...</td>\n",
       "      <td>Und süße Früchte werden aus den herben\\nUnd fa...</td>\n",
       "      <td>0.0</td>\n",
       "      <td>0.0</td>\n",
       "      <td>0.0</td>\n",
       "      <td>0.0</td>\n",
       "      <td>0.0</td>\n",
       "      <td>0.0</td>\n",
       "      <td>Ballade Des Äusseren Lebens\\nHofmannsthal, Hug...</td>\n",
       "      <td>l00180152</td>\n",
       "      <td>NONE</td>\n",
       "    </tr>\n",
       "    <tr>\n",
       "      <th>5798</th>\n",
       "      <td>OPHELIA GEORG HEYM l00300075</td>\n",
       "      <td>Vorbei, vorbei. Da sich dem Dunkel weiht\\nDer ...</td>\n",
       "      <td>0.0</td>\n",
       "      <td>0.0</td>\n",
       "      <td>0.0</td>\n",
       "      <td>0.0</td>\n",
       "      <td>0.0</td>\n",
       "      <td>1.0</td>\n",
       "      <td>Die blauen Lider schatten sanft herab.\\nUnd be...</td>\n",
       "      <td>l00300075</td>\n",
       "      <td>SADNESS</td>\n",
       "    </tr>\n",
       "    <tr>\n",
       "      <th>5528</th>\n",
       "      <td>Ein glücklicher Schreibfehler Beyer, Karl Frie...</td>\n",
       "      <td>Hans dankt dem Doktor Braß,\\nDaß er am Leben b...</td>\n",
       "      <td>0.0</td>\n",
       "      <td>0.0</td>\n",
       "      <td>0.0</td>\n",
       "      <td>0.0</td>\n",
       "      <td>1.0</td>\n",
       "      <td>0.0</td>\n",
       "      <td>Ein glücklicher Schreibfehler\\nBeyer, Karl Fri...</td>\n",
       "      <td>l00130270</td>\n",
       "      <td>LOVE</td>\n",
       "    </tr>\n",
       "  </tbody>\n",
       "</table>\n",
       "</div>"
      ],
      "text/plain": [
       "                                                DocName  \\\n",
       "5308  Acherontisches Frösteln Liliencron, Detlev von...   \n",
       "4261   Hand in Hand Grosse, Julius [alt. Große, Julius]   \n",
       "6542  Ballade Des Äusseren Lebens Hofmannsthal, Hugo...   \n",
       "5798                       OPHELIA GEORG HEYM l00300075   \n",
       "5528  Ein glücklicher Schreibfehler Beyer, Karl Frie...   \n",
       "\n",
       "                                                   Text  Agitation  Anger  \\\n",
       "5308  Schon nascht der Staar die rote Vogelbeere,\\nZ...        0.0    0.0   \n",
       "4261  Hand in Hand\\nGrosse, Julius [alt. Große, Julius]        0.0    0.0   \n",
       "6542  Und süße Früchte werden aus den herben\\nUnd fa...        0.0    0.0   \n",
       "5798  Vorbei, vorbei. Da sich dem Dunkel weiht\\nDer ...        0.0    0.0   \n",
       "5528  Hans dankt dem Doktor Braß,\\nDaß er am Leben b...        0.0    0.0   \n",
       "\n",
       "      Fear  Joy  Love  Sadness  \\\n",
       "5308   0.0  1.0   0.0      1.0   \n",
       "4261   0.0  0.0   0.0      0.0   \n",
       "6542   0.0  0.0   0.0      0.0   \n",
       "5798   0.0  0.0   0.0      1.0   \n",
       "5528   0.0  0.0   1.0      0.0   \n",
       "\n",
       "                                                Context         ID  \\\n",
       "5308  Acherontisches Frösteln\\nLiliencron, Detlev vo...  l00180014   \n",
       "4261  Hand in Hand\\nGrosse, Julius [alt. Große, Julius]   l0080170   \n",
       "6542  Ballade Des Äusseren Lebens\\nHofmannsthal, Hug...  l00180152   \n",
       "5798  Die blauen Lider schatten sanft herab.\\nUnd be...  l00300075   \n",
       "5528  Ein glücklicher Schreibfehler\\nBeyer, Karl Fri...  l00130270   \n",
       "\n",
       "            label  \n",
       "5308  JOY#SADNESS  \n",
       "4261         NONE  \n",
       "6542         NONE  \n",
       "5798      SADNESS  \n",
       "5528         LOVE  "
      ]
     },
     "execution_count": 14,
     "metadata": {},
     "output_type": "execute_result"
    }
   ],
   "source": [
    "df_gen = df.sample(n=350, random_state=45)\n",
    "df_gen = add_labels(df_gen)\n",
    "df_gen.to_csv(data_dir / 'data_gen_sampling.tsv', sep='\\t')\n",
    "df_gen.head()"
   ]
  },
  {
   "cell_type": "markdown",
   "id": "4d7d5685-16c9-4824-9ee4-ee1826b62870",
   "metadata": {},
   "source": [
    "## Annotation guide lines"
   ]
  },
  {
   "cell_type": "code",
   "execution_count": 15,
   "id": "59be734e-8d0c-4758-abc3-67359047bd0a",
   "metadata": {},
   "outputs": [],
   "source": [
    "annotation_guidelines = \"\"\"\n",
    "A text segment represents an emotion only if it contains at least one clear emotion marker. Possible emotion markers are \n",
    "- single words that lexically indicate an emotion ('joy', 'laughter', 'happy', etc.)\n",
    "- Linguistic images (especially metaphors, such as 'the broken heart')\n",
    "- Situations typically associated with certain emotions (e.g., the death of a loved one)\n",
    "- Descriptions of behaviors that typically indicate emotionality (\"She pounded her fist on the table...\")\n",
    "- Formal features of direct speech that indicate the speaker's emotionality (e.g., omissions and/or frequent exclamation marks, as in 'This ... is ... just ... madness!!!')\n",
    "\n",
    "If there are no clear emotion markers, do not be afraid to annotate NONE.\n",
    "\n",
    "EXAMPLE 1:\n",
    "\n",
    "Ich lauscht' entzückt dem jubelnden Gesang,\n",
    "Ich sog erquickt den süßen Waldduft ein,\n",
    "Der mir in vollem Strom entgegendrang,\n",
    "Und leise sprach ich in mich selbst hinein:\n",
    "\n",
    "The text segment contains several clear emotion markers indicating JOY, such as the words „entzücket“ and „jubelndem“.\n",
    "\n",
    "ANSWER: JOY\n",
    "\n",
    "EXAMPLE 2:\n",
    "\n",
    "Was quäl ich mich! Hier trieb vielleicht\n",
    "schon manches Paar sein loses Spiel,\n",
    "und sind erglüht und sind erbleicht\n",
    "und sprachen dann vom Tode viel.\n",
    "Die See rauscht.\n",
    "\n",
    "The text segment contains several clear emotion markers indicating SADNESS, such as the word „quäl“ and the mentioning of the situation „death“.  \n",
    "The text segment also contains several clear emotion markers indicating LOVE, such as the behavior of „playing a loose game“ and the metaphor of „erglüht“. \n",
    "\n",
    "ANSWER: SADNESS, LOVE\n",
    "\n",
    "EXAMPLE 3:\n",
    "\n",
    "Hier klafft ein Maul, das zahnlos auf sich reißt.\n",
    "Hier hebt sich zweier Arme schwarzer Stumpf.\n",
    "Ein Irrer lallt die hohlen Lieder dumpf,\n",
    "Wo hockt ein Greis, des Schädel Aussatz weißt.\n",
    "\n",
    "It could be argued that the text segment describes something \"negative\" in a general sense, but there are not clear enough emotion markers according to the Annotation Guidelines.\n",
    "\n",
    "ANSWER: NONE\n",
    "\"\"\"\n"
   ]
  },
  {
   "cell_type": "markdown",
   "id": "a03ad823-432e-42bd-ab19-ce3119708349",
   "metadata": {},
   "source": [
    "## Preparing the Prompts"
   ]
  },
  {
   "cell_type": "markdown",
   "id": "37e597b6-6e6c-4ce8-8b78-804a22a54de2",
   "metadata": {},
   "source": [
    "### Short Prompt"
   ]
  },
  {
   "cell_type": "code",
   "execution_count": 5,
   "id": "215228b4-3f0f-4de4-b8ea-cfe1783548f0",
   "metadata": {},
   "outputs": [],
   "source": [
    "#short prompt template used in Exp. 1, 3. The placeholders 'stanza' and 'context' are filled when the template is called.\n",
    "short_prompt_text = \"\"\"Your task is to annotate the representation of emotion in a stanza of a poem.\n",
    "\n",
    "There are six possible emotions: ANGER, FEAR, JOY, LOVE, SADNESS, AGITATION. Never use other emotions.\n",
    "\n",
    "A stanza can represent exactly one emotion, but it can also represent several or NONE of the emotions listed above.\n",
    "\n",
    "{stanza}\n",
    "\n",
    "Take into account that the stanza is part of a poem that reads like this before the stanza just quoted:\n",
    "\n",
    "{context}\n",
    "\n",
    "In your answer, don't repeat the stanza or the text in your answer! If the stanza does not represent one of the six emotions, answer NONE. Otherwise, answer with the name(s) of the emotion(s) represented in the stanza (ANGER, FEAR, JOY, LOVE, SADNESS, SURPRISE). \n",
    "If there is more than one emotion in the stanza, separate their names with a #, e.g. ANGER#FEAR.\n",
    "\n",
    "\"\"\"\n",
    "\n",
    "short_prompt = ChatPromptTemplate.from_template(short_prompt_text)"
   ]
  },
  {
   "cell_type": "markdown",
   "id": "4e711409-0e91-4ecb-83fd-c3ebb06d72d6",
   "metadata": {},
   "source": [
    "### Long Prompt"
   ]
  },
  {
   "cell_type": "code",
   "execution_count": 6,
   "id": "cc642442-c998-49dd-bef2-6af080c139f1",
   "metadata": {},
   "outputs": [],
   "source": [
    "examples = \"\"\"\n",
    "EXAMPLE:\n",
    "\n",
    "Was quäl ich mich! Hier trieb vielleicht\n",
    "schon manches Paar sein loses Spiel,\n",
    "und sind erglüht und sind erbleicht\n",
    "und sprachen dann vom Tode viel.\n",
    "Die See rauscht.\n",
    "\n",
    "ANNOTATION: SADNESS#LOVE\n",
    "REASONING: The stanza contains several clear emotion markers indicating SADNESS, such as the word „quäl“ and the mentioning of the situation „death“.  The stanza also contains several clear emotion markers indicating LOVE, such as the behavior of „playing a loose game“ and the metaphor of „erglüht“. \n",
    "\n",
    "\n",
    "EXAMPLE:\n",
    "\n",
    "Hier klafft ein Maul, das zahnlos auf sich reißt.\n",
    "Hier hebt sich zweier Arme schwarzer Stumpf.\n",
    "Ein Irrer lallt die hohlen Lieder dumpf,\n",
    "Wo hockt ein Greis, des Schädel Aussatz weißt.\n",
    "\n",
    "ANNOTATION: NONE\n",
    "REASONING: It could be argued that the stanza describes something \"negative\" in a general sense, but there are not clear enough emotion markers according to the Annotation Guidelines.\n",
    "\n",
    "\n",
    "EXAMPLE:\n",
    "\n",
    "Der Mond liegt müd am Himmelssaum,\n",
    "kein Ton, kein Hauch im weiten Raum.\n",
    "Sein Herz nur schlägt so ungestüm\n",
    "und lautlos spricht die Zeit mit ihm.\n",
    "Und zeigt ihm auf den Bergeshöhn\n",
    "Sein eignes Bildnis mächtig gehn.\n",
    "\n",
    "ANNOTATION: AGITATION\n",
    "REASONING: The stanza contains clear emotion markers indicating AGITATION, especially the behavior “Sein Herz nur schlägt so ungestüm”.\n",
    "\n",
    "EXAMPLE:\n",
    "\n",
    "Ob auch die Drosseln ihn erstaunt geschaut?\n",
    "Denn ihr Geschmetter, eben noch so laut,\n",
    "Verstummte plötzlich. Uns zur Seite trat\n",
    "Der wackre Arzt, der leisen Schritts genaht:\n",
    "\n",
    "ANNOTATION: AGITATION\n",
    "REASONING: The stanza contains clear emotion markers indicating AGITATION, especially the word “erstaunt”, which means surprise. Surprise is part of AGITATION in the sense of the annotation.\n",
    "\n",
    "EXAMPLE: \n",
    "\n",
    "Erzürnt erhob ein Waldbrand seine Flügel,\n",
    "Die ganze Insel ward zum Aschenhügel,\n",
    "Und aus der Asche wieder sproßten Reben.\n",
    "\n",
    "ANNOTATION: ANGER\n",
    "REASONING: The stanza contains clear emotion markers indicating ANGER, especially the word “erzürnt”.\n",
    "\n",
    "EXAMPLE:\n",
    "\n",
    "Denn hassen, hassen muß der Wicht,\n",
    "Der ein beschränkter Tropf ist,\n",
    "Das überlegene Gedicht\n",
    "Deß, der ein freier Kopf ist,\n",
    "\n",
    "ANNOTATION: ANGER\n",
    "REASONING: The stanza contains clear emotion markers indicating ANGER, especially the word “hassen”, which means hate. Hate is part of ANGER in the sense of the annotation.\n",
    "\n",
    "EXAMPLE: \n",
    "\n",
    "Und rings kein Laut, als nur ein bang Gewimmer\n",
    "von einem Zügenglöcklein, das im Dorfe zog\n",
    "der greise Küster, immer betend, immer.\n",
    "\n",
    "ANNOTATION: FEAR\n",
    "REASONING: The stanza contains clear emotion markers indicating FEAR, especially the words “bang” and “Gewimmer”.\n",
    "\n",
    "EXAMPLE:\n",
    "\n",
    "Wer mein trübes Geheimnis ahnt,\n",
    "Wird erblassen,\n",
    "Er ist gemahnt\n",
    "Und verlassen.\n",
    "\n",
    "ANNOTATION: FEAR\n",
    "REASONING: The stanza contains clear emotion markers indicating FEAR, especially the behavior “erblassen”, which indicates that someone is scared or frightened.\n",
    "\n",
    "EXAMPLE:\n",
    "\n",
    "Ja reimt euch Seelen —\n",
    "bis jauchzend schallt,\n",
    "eine Riesenorgel,\n",
    "der Weltenwald!“\n",
    "\n",
    "ANNOTATION: JOY\n",
    "REASONING: The stanza contains clear emotion markers indicating JOY, especially the word “jauchzend”.\n",
    "\n",
    "EXAMPLE:\n",
    "\n",
    "Alles Frohe will mit mir gehn,\n",
    "Jünglinge, selige Frauen,\n",
    "Jauchzend den Frühling zu schauen,\n",
    "Glückumschlungen am Tor zu stehn.\n",
    "\n",
    "ANNOTATION: JOY\n",
    "REASONING: The stanza contains many clear emotion markers indicating JOY, such as the words “Frohe”, “selige”, “Jauchzend” and “Glückumschlungen”.\n",
    "\n",
    "EXAMPLE:\n",
    "\n",
    "Ich glaube an der Schöpfung ungemessne Not,\n",
    "Die gellend auf zum fernen Himmel schreit;\n",
    "Ich glaube an die Gräber und den Tod,\n",
    "An alles Herrlichen Vergänglichkeit.\n",
    "\n",
    "ANNOTATION: SADNESS\n",
    "REASONING: The stanza contains clear emotion markers indicating SADNESS, especially the words “Not” and “schreit”, but also the situation “Tod”.\n",
    "\n",
    "EXAMPLE:\n",
    "\n",
    "Hat mit Ähren sich das Mieder\n",
    "Unschuldig geschmückt,\n",
    "Sich den Hut verlegen nieder\n",
    "In die Stirn gedrückt.\n",
    "\n",
    "ANNOTATION: SADNESS\n",
    "REASONING: The stanza contains clear emotion markers indicating SADNESS, especially the word “verlegen”, which indicates shame, which is part of SADNESS in the sense of the annotation.\n",
    "\n",
    "EXAMPLE:\n",
    "\n",
    "Es hat die Nacht die bleiche Hand erhoben\n",
    "Und tausend Sterne hingesät.\n",
    "Durch mondeshelle Lüfte weht\n",
    "Zitternd die Sehnsucht von dort oben; —\n",
    "\n",
    "ANNOTATION: LOVE\n",
    "REASONING: The stanza contains clear emotion markers indicating LOVE, especially the word “Sehnsucht”. Sehnsucht means longing, which is part of LOVE in the sense of the annotation.\n",
    "\n",
    "EXAMPLE:\n",
    "\n",
    "Es hängen meine Lippen reif wie Beeren\n",
    "Aus heißem Blut und betteln um die Güte,\n",
    "Küssen zu dürfen. Ach, ich will verhehren\n",
    "Mit meinen Küssen der Geliebten Blüte.\n",
    "\n",
    "ANNOTATION: LOVE\n",
    "REASONING: The stanza contains clear emotion markers indicating LOVE, e.g., the word “Küssen”, which indicates sexual desire, which is part of LOVE in the sense of the annotation.\n",
    "\n",
    "EXAMPLE:\n",
    "\n",
    "Die Tanne ragt so hoch und stolz —\n",
    "Die Sträucher kichern und schwätzen,\n",
    "Sie haben am stolzen Tannenbaum\n",
    "Gar vieles auszusetzen.\n",
    "\n",
    "ANNOTATION: ANGER#JOY\n",
    "REASONING: The stanza contains clear emotion markers indicating JOY, especially the word “stolz”, which means pride, which is part of JOY in the sense of the annotation. The stanza also contains clear emotion markers indicating ANGER, since the bushes make fun of the fir, which is a behavior indicating dislike.\n",
    "\n",
    "EXAMPLE:\n",
    "\n",
    "Schied auch die Muschel lange schon\n",
    "Vom Meer, das ihre Heimath war —\n",
    "In ihrer Tiefe rauscht ein Ton\n",
    "Wie Meeresheimath immerdar.\n",
    "\n",
    "ANNOTATION: NONE\n",
    "REASONING: The stanza contains no clear emotion markers.\n",
    "\n",
    "EXAMPLE:\n",
    "\n",
    "Auf Moos und Wurzeln klang hohl der Tritt,\n",
    "Und hinter uns gingen bei jedem Schritt\n",
    "Waldbäume in schweren Scharen mit.\n",
    "\n",
    "ANNOTATION: NONE\n",
    "REASONING: The stanza contains some phrases that could be described as \"negative\" in a very broad sense (\"hohl der Tritt\", \"schweren Scharen\"), but this is certainly not clear enough for an annotation.\n",
    "\n",
    "\"\"\""
   ]
  },
  {
   "cell_type": "markdown",
   "id": "9a1cb0fb-d2dd-46a1-b55a-aa3d0fc429b9",
   "metadata": {},
   "source": [
    "### Binary classification"
   ]
  },
  {
   "cell_type": "code",
   "execution_count": 7,
   "id": "9d729a2a-8418-40b3-97fb-0f4065bcf173",
   "metadata": {},
   "outputs": [],
   "source": [
    "long_prompt_text = \"\"\"Your task is to annotate the representation of emotion in a stanza of a poem.\n",
    "\n",
    "There are six possible emotions: AGITATION, ANGER, FEAR, JOY, LOVE, SADNESS. Never use other emotions.\n",
    "\n",
    "Understand the 6 emotions as technical terms that designate a specific range of sub-emotions each:\n",
    "ANGER includes dislike, disgust, hatred, envy, contempt and anger.\n",
    "FEAR includes fear and fright.\n",
    "JOY includes balance, enthusiasm, joy, solace, happiness, hope, pride and comfort.\n",
    "LOVE includes admiration, gratitude, love, lust (non-sexual), lust (sexual), longing and affection.\n",
    "SADNESS includes loneliness, disappointment, sorrow, pity, powerlessness, remorse, shame, grief, discomfort, impatience, insecurity, despair and melancholy.\n",
    "AGITATION includes unspecified emotionality, surprise, agitation and excitement.\n",
    "\n",
    "A stanza can represent exactly one emotion, but it can also represent several or NONE of the emotions listed above.\n",
    "\n",
    "Take these additional guidelines into account:\n",
    "\n",
    "A stanza represents an emotion only if it contains at least one clear emotion marker. Possible emotion markers are \n",
    "- single words that lexically indicate an emotion ('joy', 'laughter', 'happy', etc.)\n",
    "- Linguistic images (especially metaphors, such as 'the broken heart')\n",
    "- Situations typically associated with certain emotions (e.g., the death of a loved one)\n",
    "- Descriptions of behaviors that typically indicate emotionality (\"She pounded her fist on the table...\")\n",
    "- Formal features of direct speech that indicate the speaker's emotionality (e.g., omissions and/or frequent exclamation marks, as in 'This ... is ... just ... madness!!!')\n",
    "\n",
    "If there are no clear emotion markers, the annotation is NONE. Only annotate an emotion, if there are enough explicit emotion markers!\n",
    "\n",
    "Your answer consists of two parts, an annotation and a reasoning part. Each part is on a separate line. See the following examples for details.\n",
    "\n",
    "EXAMPLE:\n",
    "\n",
    "Was quäl ich mich! Hier trieb vielleicht\n",
    "schon manches Paar sein loses Spiel,\n",
    "und sind erglüht und sind erbleicht\n",
    "und sprachen dann vom Tode viel.\n",
    "Die See rauscht.\n",
    "\n",
    "ANNOTATION: SADNESS#LOVE\n",
    "REASONING: The stanza contains several clear emotion markers indicating SADNESS, such as the word „quäl“ and the mentioning of the situation „death“.  The stanza also contains several clear emotion markers indicating LOVE, such as the behavior of „playing a loose game“ and the metaphor of „erglüht“. \n",
    "\n",
    "\n",
    "EXAMPLE:\n",
    "\n",
    "Hier klafft ein Maul, das zahnlos auf sich reißt.\n",
    "Hier hebt sich zweier Arme schwarzer Stumpf.\n",
    "Ein Irrer lallt die hohlen Lieder dumpf,\n",
    "Wo hockt ein Greis, des Schädel Aussatz weißt.\n",
    "\n",
    "ANNOTATION: NONE\n",
    "REASONING: It could be argued that the stanza describes something \"negative\" in a general sense, but there are not clear enough emotion markers according to the Annotation Guidelines.\n",
    "\n",
    "\n",
    "EXAMPLE:\n",
    "\n",
    "Der Mond liegt müd am Himmelssaum,\n",
    "kein Ton, kein Hauch im weiten Raum.\n",
    "Sein Herz nur schlägt so ungestüm\n",
    "und lautlos spricht die Zeit mit ihm.\n",
    "Und zeigt ihm auf den Bergeshöhn\n",
    "Sein eignes Bildnis mächtig gehn.\n",
    "\n",
    "ANNOTATION: AGITATION\n",
    "REASONING: The stanza contains clear emotion markers indicating AGITATION, especially the behavior “Sein Herz nur schlägt so ungestüm”.\n",
    "\n",
    "EXAMPLE:\n",
    "\n",
    "Ob auch die Drosseln ihn erstaunt geschaut?\n",
    "Denn ihr Geschmetter, eben noch so laut,\n",
    "Verstummte plötzlich. Uns zur Seite trat\n",
    "Der wackre Arzt, der leisen Schritts genaht:\n",
    "\n",
    "ANNOTATION: AGITATION\n",
    "REASONING: The stanza contains clear emotion markers indicating AGITATION, especially the word “erstaunt”, which means surprise. Surprise is part of AGITATION in the sense of the annotation.\n",
    "\n",
    "EXAMPLE: \n",
    "\n",
    "Erzürnt erhob ein Waldbrand seine Flügel,\n",
    "Die ganze Insel ward zum Aschenhügel,\n",
    "Und aus der Asche wieder sproßten Reben.\n",
    "\n",
    "ANNOTATION: ANGER\n",
    "REASONING: The stanza contains clear emotion markers indicating ANGER, especially the word “erzürnt”.\n",
    "\n",
    "EXAMPLE:\n",
    "\n",
    "Denn hassen, hassen muß der Wicht,\n",
    "Der ein beschränkter Tropf ist,\n",
    "Das überlegene Gedicht\n",
    "Deß, der ein freier Kopf ist,\n",
    "\n",
    "ANNOTATION: ANGER\n",
    "REASONING: The stanza contains clear emotion markers indicating ANGER, especially the word “hassen”, which means hate. Hate is part of ANGER in the sense of the annotation.\n",
    "\n",
    "EXAMPLE: \n",
    "\n",
    "Und rings kein Laut, als nur ein bang Gewimmer\n",
    "von einem Zügenglöcklein, das im Dorfe zog\n",
    "der greise Küster, immer betend, immer.\n",
    "\n",
    "ANNOTATION: FEAR\n",
    "REASONING: The stanza contains clear emotion markers indicating FEAR, especially the words “bang” and “Gewimmer”.\n",
    "\n",
    "EXAMPLE:\n",
    "\n",
    "Wer mein trübes Geheimnis ahnt,\n",
    "Wird erblassen,\n",
    "Er ist gemahnt\n",
    "Und verlassen.\n",
    "\n",
    "ANNOTATION: FEAR\n",
    "REASONING: The stanza contains clear emotion markers indicating FEAR, especially the behavior “erblassen”, which indicates that someone is scared or frightened.\n",
    "\n",
    "EXAMPLE:\n",
    "\n",
    "Ja reimt euch Seelen —\n",
    "bis jauchzend schallt,\n",
    "eine Riesenorgel,\n",
    "der Weltenwald!“\n",
    "\n",
    "ANNOTATION: JOY\n",
    "REASONING: The stanza contains clear emotion markers indicating JOY, especially the word “jauchzend”.\n",
    "\n",
    "EXAMPLE:\n",
    "\n",
    "Alles Frohe will mit mir gehn,\n",
    "Jünglinge, selige Frauen,\n",
    "Jauchzend den Frühling zu schauen,\n",
    "Glückumschlungen am Tor zu stehn.\n",
    "\n",
    "ANNOTATION: JOY\n",
    "REASONING: The stanza contains many clear emotion markers indicating JOY, such as the words “Frohe”, “selige”, “Jauchzend” and “Glückumschlungen”.\n",
    "\n",
    "EXAMPLE:\n",
    "\n",
    "Ich glaube an der Schöpfung ungemessne Not,\n",
    "Die gellend auf zum fernen Himmel schreit;\n",
    "Ich glaube an die Gräber und den Tod,\n",
    "An alles Herrlichen Vergänglichkeit.\n",
    "\n",
    "ANNOTATION: SADNESS\n",
    "REASONING: The stanza contains clear emotion markers indicating SADNESS, especially the words “Not” and “schreit”, but also the situation “Tod”.\n",
    "\n",
    "EXAMPLE:\n",
    "\n",
    "Hat mit Ähren sich das Mieder\n",
    "Unschuldig geschmückt,\n",
    "Sich den Hut verlegen nieder\n",
    "In die Stirn gedrückt.\n",
    "\n",
    "ANNOTATION: SADNESS\n",
    "REASONING: The stanza contains clear emotion markers indicating SADNESS, especially the word “verlegen”, which indicates shame, which is part of SADNESS in the sense of the annotation.\n",
    "\n",
    "EXAMPLE:\n",
    "\n",
    "Es hat die Nacht die bleiche Hand erhoben\n",
    "Und tausend Sterne hingesät.\n",
    "Durch mondeshelle Lüfte weht\n",
    "Zitternd die Sehnsucht von dort oben; —\n",
    "\n",
    "ANNOTATION: LOVE\n",
    "REASONING: The stanza contains clear emotion markers indicating LOVE, especially the word “Sehnsucht”. Sehnsucht means longing, which is part of LOVE in the sense of the annotation.\n",
    "\n",
    "EXAMPLE:\n",
    "\n",
    "Es hängen meine Lippen reif wie Beeren\n",
    "Aus heißem Blut und betteln um die Güte,\n",
    "Küssen zu dürfen. Ach, ich will verhehren\n",
    "Mit meinen Küssen der Geliebten Blüte.\n",
    "\n",
    "ANNOTATION: LOVE\n",
    "REASONING: The stanza contains clear emotion markers indicating LOVE, e.g., the word “Küssen”, which indicates sexual desire, which is part of LOVE in the sense of the annotation.\n",
    "\n",
    "EXAMPLE:\n",
    "\n",
    "Die Tanne ragt so hoch und stolz —\n",
    "Die Sträucher kichern und schwätzen,\n",
    "Sie haben am stolzen Tannenbaum\n",
    "Gar vieles auszusetzen.\n",
    "\n",
    "ANNOTATION: ANGER#JOY\n",
    "REASONING: The stanza contains clear emotion markers indicating JOY, especially the word “stolz”, which means pride, which is part of JOY in the sense of the annotation. The stanza also contains clear emotion markers indicating ANGER, since the bushes make fun of the fir, which is a behavior indicating dislike.\n",
    "\n",
    "EXAMPLE:\n",
    "\n",
    "Schied auch die Muschel lange schon\n",
    "Vom Meer, das ihre Heimath war —\n",
    "In ihrer Tiefe rauscht ein Ton\n",
    "Wie Meeresheimath immerdar.\n",
    "\n",
    "ANNOTATION: NONE\n",
    "REASONING: The stanza contains no clear emotion markers.\n",
    "\n",
    "EXAMPLE:\n",
    "\n",
    "Auf Moos und Wurzeln klang hohl der Tritt,\n",
    "Und hinter uns gingen bei jedem Schritt\n",
    "Waldbäume in schweren Scharen mit.\n",
    "\n",
    "ANNOTATION: NONE\n",
    "REASONING: The stanza contains some phrases that could be described as \"negative\" in a very broad sense (\"hohl der Tritt\", \"schweren Scharen\"), but this is certainly not clear enough for an annotation.\n",
    "\n",
    "Now annotate this stanza:\n",
    "\n",
    "{stanza}\n",
    "\n",
    "Take into account that the stanza is part of a poem that reads like this before the stanza just quoted:\n",
    "\n",
    "{context}\n",
    "\n",
    "Always use the formating of the examples for your answer. In your answer, don't repeat the stanza or the text in your answer! \n",
    "If the stanza does not represent one of the six emotions, answer NONE. Otherwise, answer with the name(s) of the emotion(s) represented in the stanza (AGITATION, ANGER, FEAR, JOY, LOVE, SADNESS). \n",
    "If there is more than one emotion in the stanza, separate their names with a #, e.g. AGITATION#ANGER#FEAR.\n",
    "\n",
    "\"\"\"\n",
    "\n",
    "long_prompt = ChatPromptTemplate.from_template(long_prompt_text)"
   ]
  },
  {
   "cell_type": "markdown",
   "id": "052a77e7-9f28-419d-bcf5-58f82234b029",
   "metadata": {},
   "source": [
    "### Binary classification short prompt"
   ]
  },
  {
   "cell_type": "markdown",
   "id": "689e5e92-67a4-4b2e-ac45-5dcbd58dcf82",
   "metadata": {},
   "source": [
    "see experiment 6"
   ]
  },
  {
   "cell_type": "markdown",
   "id": "7a41f0e1-2315-4f8b-8dc7-36b6ff795be8",
   "metadata": {},
   "source": [
    "## Defining the models"
   ]
  },
  {
   "cell_type": "code",
   "execution_count": 272,
   "id": "55e6f88d-3930-4c92-b08b-38af4fb8d79b",
   "metadata": {
    "lines_to_next_cell": 2
   },
   "outputs": [],
   "source": [
    "models = {}\n",
    "models['gpt4o'] = ChatOpenAI(model_name = 'gpt-4o')\n",
    "models['gemini'] = ChatGoogleGenerativeAI(model=\"gemini-1.5-pro\")  #gemini-1.5-pro\n",
    "models['claude'] = ChatAnthropic(model='claude-3-5-sonnet-20240620')\n"
   ]
  },
  {
   "cell_type": "markdown",
   "id": "4cce16d9-22a5-472f-83c2-57e6f0e254f6",
   "metadata": {},
   "source": [
    "## 1. Experiment: General sampling. Short prompt."
   ]
  },
  {
   "cell_type": "code",
   "execution_count": 81,
   "id": "5e0dba38-7008-4173-84e4-a63add056dd4",
   "metadata": {},
   "outputs": [],
   "source": [
    "short_prompt = ChatPromptTemplate.from_template(\"\"\"Your task is to annotate the representation of emotion in a stanza of a poem.\n",
    "\n",
    "There are six possible emotions: ANGER, FEAR, JOY, LOVE, SADNESS, AGITATION. Never use other emotions.\n",
    "\n",
    "A stanza can represent exactly one emotion, but it can also represent several or NONE of the emotions listed above.\n",
    "\n",
    "{stanza}\n",
    "\n",
    "Take into account that the stanza is part of a poem that reads like this before the stanza just quoted:\n",
    "\n",
    "{context}\n",
    "\n",
    "In your answer, don't repeat the stanza or the text in your answer! If the stanza does not represent one of the six emotions, answer NONE. Otherwise, answer with the name(s) of the emotion(s) represented in the stanza (ANGER, FEAR, JOY, LOVE, SADNESS, SURPRISE). If there is more than one emotion in the stanza, separate their names with a #, e.g. ANGER#FEAR.\n",
    "\n",
    "\"\"\")"
   ]
  },
  {
   "cell_type": "markdown",
   "id": "935cfc12-f528-4683-b85b-1400c4cdc5ea",
   "metadata": {},
   "source": [
    "### Running the experiment"
   ]
  },
  {
   "cell_type": "code",
   "execution_count": 224,
   "id": "3c52174b-1932-48a8-8e2c-48c165037112",
   "metadata": {},
   "outputs": [
    {
     "data": {
      "application/vnd.jupyter.widget-view+json": {
       "model_id": "78c6fe9d56974ef0afa5798d86f7b3cb",
       "version_major": 2,
       "version_minor": 0
      },
      "text/plain": [
       "  0%|          | 0/3 [00:00<?, ?it/s]"
      ]
     },
     "metadata": {},
     "output_type": "display_data"
    },
    {
     "data": {
      "application/vnd.jupyter.widget-view+json": {
       "model_id": "6ac71a350b4a4d1a8a3549e1afaf8050",
       "version_major": 2,
       "version_minor": 0
      },
      "text/plain": [
       "0it [00:00, ?it/s]"
      ]
     },
     "metadata": {},
     "output_type": "display_data"
    },
    {
     "data": {
      "application/vnd.jupyter.widget-view+json": {
       "model_id": "e1b273d8741a4b8aa49988a6baba7872",
       "version_major": 2,
       "version_minor": 0
      },
      "text/plain": [
       "0it [00:00, ?it/s]"
      ]
     },
     "metadata": {},
     "output_type": "display_data"
    },
    {
     "data": {
      "application/vnd.jupyter.widget-view+json": {
       "model_id": "76c3e3957cac4ec4bd6c29ee7f6a863c",
       "version_major": 2,
       "version_minor": 0
      },
      "text/plain": [
       "0it [00:00, ?it/s]"
      ]
     },
     "metadata": {},
     "output_type": "display_data"
    },
    {
     "name": "stdout",
     "output_type": "stream",
     "text": [
      "\n",
      "\n",
      "time: 1602.8906149864197 (secs)\n"
     ]
    }
   ],
   "source": [
    "start = time.time()\n",
    "all_responses = {}            #collect all raw answers from llms\n",
    "\n",
    "for model_label, model in tqdm_notebook(models.items()):  \n",
    "    responses = []            #list of llm responses\n",
    "    chain = short_prompt | model | StrOutputParser()   #create langchain pipeline\n",
    "    \n",
    "    for lnr, row in tqdm_notebook(df_gen.iterrows()):     \n",
    "        \n",
    "        try:\n",
    "            response = chain.invoke({\n",
    "                                \"stanza\": {row.Text},\n",
    "                                \"context\": {row.Context}, \n",
    "                            }) #get answer from llm with the \n",
    "        except InternalServerError:\n",
    "            print(f\"Internal Server Error at line {lnr}\")\n",
    "\n",
    "        responses.append(response)\n",
    "\n",
    "    all_responses[model_label] = responses\n",
    "\n",
    "end = time.time()\n",
    "duration = end - start\n",
    "print(f\"\\n\\ntime: {duration} (secs)\")"
   ]
  },
  {
   "cell_type": "markdown",
   "id": "796876a2-90ba-4b51-87d8-c071ae5235b2",
   "metadata": {},
   "source": [
    "### Evaluation"
   ]
  },
  {
   "cell_type": "code",
   "execution_count": 226,
   "id": "864c779a-b48b-411f-be1a-3c2a4566abb8",
   "metadata": {},
   "outputs": [],
   "source": [
    "dr = pd.DataFrame(all_responses)\n",
    "dr['gold'] = df_gen.label.values\n"
   ]
  },
  {
   "cell_type": "code",
   "execution_count": 227,
   "id": "7f9a26aa-e518-4b3a-9a8d-b9fb66bac53b",
   "metadata": {},
   "outputs": [
    {
     "data": {
      "text/html": [
       "<div>\n",
       "<style scoped>\n",
       "    .dataframe tbody tr th:only-of-type {\n",
       "        vertical-align: middle;\n",
       "    }\n",
       "\n",
       "    .dataframe tbody tr th {\n",
       "        vertical-align: top;\n",
       "    }\n",
       "\n",
       "    .dataframe thead th {\n",
       "        text-align: right;\n",
       "    }\n",
       "</style>\n",
       "<table border=\"1\" class=\"dataframe\">\n",
       "  <thead>\n",
       "    <tr style=\"text-align: right;\">\n",
       "      <th></th>\n",
       "      <th>gpt4o</th>\n",
       "      <th>gemini</th>\n",
       "      <th>claude</th>\n",
       "      <th>gold</th>\n",
       "    </tr>\n",
       "  </thead>\n",
       "  <tbody>\n",
       "    <tr>\n",
       "      <th>0</th>\n",
       "      <td>SADNESS,Fear</td>\n",
       "      <td>SADNESS, FEAR</td>\n",
       "      <td>SADNESS,FEAR\\n\\nThe stanza evokes a sense of m...</td>\n",
       "      <td>JOY#SADNESS</td>\n",
       "    </tr>\n",
       "    <tr>\n",
       "      <th>1</th>\n",
       "      <td>LOVE</td>\n",
       "      <td>NONE</td>\n",
       "      <td>NONE\\n\\nThis response is based on the fact tha...</td>\n",
       "      <td>NONE</td>\n",
       "    </tr>\n",
       "    <tr>\n",
       "      <th>2</th>\n",
       "      <td>SADNESS</td>\n",
       "      <td>SADNESS</td>\n",
       "      <td>SADNESS\\n\\nThe stanza evokes a sense of melanc...</td>\n",
       "      <td>NONE</td>\n",
       "    </tr>\n",
       "    <tr>\n",
       "      <th>3</th>\n",
       "      <td>SADNESS</td>\n",
       "      <td>SADNESS</td>\n",
       "      <td>SADNESS\\n\\nThis stanza evokes a sense of melan...</td>\n",
       "      <td>SADNESS</td>\n",
       "    </tr>\n",
       "    <tr>\n",
       "      <th>4</th>\n",
       "      <td>JOY</td>\n",
       "      <td>JOY,SURPRISE</td>\n",
       "      <td>JOY,SURPRISE\\n\\nThe stanza represents a mix of...</td>\n",
       "      <td>LOVE</td>\n",
       "    </tr>\n",
       "  </tbody>\n",
       "</table>\n",
       "</div>"
      ],
      "text/plain": [
       "          gpt4o         gemini  \\\n",
       "0  SADNESS,Fear  SADNESS, FEAR   \n",
       "1          LOVE           NONE   \n",
       "2       SADNESS        SADNESS   \n",
       "3       SADNESS        SADNESS   \n",
       "4           JOY   JOY,SURPRISE   \n",
       "\n",
       "                                              claude         gold  \n",
       "0  SADNESS,FEAR\\n\\nThe stanza evokes a sense of m...  JOY#SADNESS  \n",
       "1  NONE\\n\\nThis response is based on the fact tha...         NONE  \n",
       "2  SADNESS\\n\\nThe stanza evokes a sense of melanc...         NONE  \n",
       "3  SADNESS\\n\\nThis stanza evokes a sense of melan...      SADNESS  \n",
       "4  JOY,SURPRISE\\n\\nThe stanza represents a mix of...         LOVE  "
      ]
     },
     "execution_count": 227,
     "metadata": {},
     "output_type": "execute_result"
    }
   ],
   "source": [
    "#for some reason we have to remove the white space in the answers from gemini\n",
    "dr.gemini = dr.gemini.str.rstrip(' \\n')\n",
    "dr.head()"
   ]
  },
  {
   "cell_type": "code",
   "execution_count": 228,
   "id": "66b2f11e-6ca8-4d65-9979-0d61e904e62a",
   "metadata": {},
   "outputs": [],
   "source": [
    "dr.to_csv(\"results_exp_1_raw.tsv\", sep='\\t')"
   ]
  },
  {
   "cell_type": "code",
   "execution_count": 229,
   "id": "cb6acdb5-23e4-4ab1-a239-66cc3dca4649",
   "metadata": {},
   "outputs": [],
   "source": [
    "#clean up the responses\n",
    "emo_str = 'AGITATION|ANGER|FEAR|JOY|LOVE|SADNESS|NONE'\n",
    "dr.gpt4o = dr.gpt4o.str.findall(emo_str)\n",
    "dr.gemini = dr.gemini.str.findall(emo_str)\n",
    "\n",
    "#claude answers contains the same category repeatedly, so we need to create a set of values\n",
    "dr.claude = dr.claude.str.findall(emo_str)\n",
    "buffer = []\n",
    "for entry in dr.claude.values:\n",
    "    try:\n",
    "        buffer.append(set(entry))\n",
    "    except TypeError:\n",
    "        buffer.append(entry)\n",
    "\n",
    "dr.claude =  buffer"
   ]
  },
  {
   "cell_type": "code",
   "execution_count": 230,
   "id": "334e041e-2dbe-456c-aab7-e6107287de61",
   "metadata": {},
   "outputs": [],
   "source": [
    "dr.gold = dr.gold.str.split('#')"
   ]
  },
  {
   "cell_type": "code",
   "execution_count": 231,
   "id": "745ccee9-c241-49d6-ae2e-854e4909997a",
   "metadata": {},
   "outputs": [
    {
     "data": {
      "text/html": [
       "<div>\n",
       "<style scoped>\n",
       "    .dataframe tbody tr th:only-of-type {\n",
       "        vertical-align: middle;\n",
       "    }\n",
       "\n",
       "    .dataframe tbody tr th {\n",
       "        vertical-align: top;\n",
       "    }\n",
       "\n",
       "    .dataframe thead th {\n",
       "        text-align: right;\n",
       "    }\n",
       "</style>\n",
       "<table border=\"1\" class=\"dataframe\">\n",
       "  <thead>\n",
       "    <tr style=\"text-align: right;\">\n",
       "      <th></th>\n",
       "      <th>gpt4o</th>\n",
       "      <th>gemini</th>\n",
       "      <th>claude</th>\n",
       "      <th>gold</th>\n",
       "    </tr>\n",
       "  </thead>\n",
       "  <tbody>\n",
       "    <tr>\n",
       "      <th>0</th>\n",
       "      <td>[SADNESS]</td>\n",
       "      <td>[SADNESS, FEAR]</td>\n",
       "      <td>{FEAR, SADNESS}</td>\n",
       "      <td>[JOY, SADNESS]</td>\n",
       "    </tr>\n",
       "    <tr>\n",
       "      <th>1</th>\n",
       "      <td>[LOVE]</td>\n",
       "      <td>[NONE]</td>\n",
       "      <td>{LOVE, SADNESS, FEAR, JOY, ANGER, NONE}</td>\n",
       "      <td>[NONE]</td>\n",
       "    </tr>\n",
       "    <tr>\n",
       "      <th>2</th>\n",
       "      <td>[SADNESS]</td>\n",
       "      <td>[SADNESS]</td>\n",
       "      <td>{SADNESS}</td>\n",
       "      <td>[NONE]</td>\n",
       "    </tr>\n",
       "    <tr>\n",
       "      <th>3</th>\n",
       "      <td>[SADNESS]</td>\n",
       "      <td>[SADNESS]</td>\n",
       "      <td>{SADNESS}</td>\n",
       "      <td>[SADNESS]</td>\n",
       "    </tr>\n",
       "    <tr>\n",
       "      <th>4</th>\n",
       "      <td>[JOY]</td>\n",
       "      <td>[JOY]</td>\n",
       "      <td>{JOY}</td>\n",
       "      <td>[LOVE]</td>\n",
       "    </tr>\n",
       "    <tr>\n",
       "      <th>...</th>\n",
       "      <td>...</td>\n",
       "      <td>...</td>\n",
       "      <td>...</td>\n",
       "      <td>...</td>\n",
       "    </tr>\n",
       "    <tr>\n",
       "      <th>345</th>\n",
       "      <td>[NONE]</td>\n",
       "      <td>[SADNESS]</td>\n",
       "      <td>{NONE}</td>\n",
       "      <td>[NONE]</td>\n",
       "    </tr>\n",
       "    <tr>\n",
       "      <th>346</th>\n",
       "      <td>[LOVE]</td>\n",
       "      <td>[LOVE]</td>\n",
       "      <td>{LOVE, SADNESS}</td>\n",
       "      <td>[LOVE]</td>\n",
       "    </tr>\n",
       "    <tr>\n",
       "      <th>347</th>\n",
       "      <td>[SADNESS]</td>\n",
       "      <td>[SADNESS]</td>\n",
       "      <td>{SADNESS}</td>\n",
       "      <td>[JOY]</td>\n",
       "    </tr>\n",
       "    <tr>\n",
       "      <th>348</th>\n",
       "      <td>[SADNESS, FEAR]</td>\n",
       "      <td>[SADNESS, FEAR]</td>\n",
       "      <td>{FEAR, SADNESS}</td>\n",
       "      <td>[JOY]</td>\n",
       "    </tr>\n",
       "    <tr>\n",
       "      <th>349</th>\n",
       "      <td>[SADNESS]</td>\n",
       "      <td>[SADNESS]</td>\n",
       "      <td>{SADNESS}</td>\n",
       "      <td>[NONE]</td>\n",
       "    </tr>\n",
       "  </tbody>\n",
       "</table>\n",
       "<p>350 rows × 4 columns</p>\n",
       "</div>"
      ],
      "text/plain": [
       "               gpt4o           gemini  \\\n",
       "0          [SADNESS]  [SADNESS, FEAR]   \n",
       "1             [LOVE]           [NONE]   \n",
       "2          [SADNESS]        [SADNESS]   \n",
       "3          [SADNESS]        [SADNESS]   \n",
       "4              [JOY]            [JOY]   \n",
       "..               ...              ...   \n",
       "345           [NONE]        [SADNESS]   \n",
       "346           [LOVE]           [LOVE]   \n",
       "347        [SADNESS]        [SADNESS]   \n",
       "348  [SADNESS, FEAR]  [SADNESS, FEAR]   \n",
       "349        [SADNESS]        [SADNESS]   \n",
       "\n",
       "                                      claude            gold  \n",
       "0                            {FEAR, SADNESS}  [JOY, SADNESS]  \n",
       "1    {LOVE, SADNESS, FEAR, JOY, ANGER, NONE}          [NONE]  \n",
       "2                                  {SADNESS}          [NONE]  \n",
       "3                                  {SADNESS}       [SADNESS]  \n",
       "4                                      {JOY}          [LOVE]  \n",
       "..                                       ...             ...  \n",
       "345                                   {NONE}          [NONE]  \n",
       "346                          {LOVE, SADNESS}          [LOVE]  \n",
       "347                                {SADNESS}           [JOY]  \n",
       "348                          {FEAR, SADNESS}           [JOY]  \n",
       "349                                {SADNESS}          [NONE]  \n",
       "\n",
       "[350 rows x 4 columns]"
      ]
     },
     "execution_count": 231,
     "metadata": {},
     "output_type": "execute_result"
    }
   ],
   "source": [
    "dr"
   ]
  },
  {
   "cell_type": "code",
   "execution_count": 232,
   "id": "0cc0148e-7dac-4a64-8afd-6679d20f58ed",
   "metadata": {},
   "outputs": [],
   "source": [
    "emotions = list(map(str.upper, emotions))\n",
    "emotions.append('NONE')"
   ]
  },
  {
   "cell_type": "code",
   "execution_count": 233,
   "id": "95afa6ad-3a5e-4817-852b-220c87055317",
   "metadata": {},
   "outputs": [],
   "source": [
    "mlb = MultiLabelBinarizer()\n",
    "\n",
    "mlb.fit([emotions])\n",
    "gold = mlb.transform(dr.gold)\n",
    "gpt4o = mlb.transform(dr.gpt4o)\n",
    "claude = mlb.transform(dr.claude)\n",
    "gemini = mlb.transform(dr.gemini)"
   ]
  },
  {
   "cell_type": "code",
   "execution_count": 234,
   "id": "53acb64a-97fb-4e13-87e8-63af1345f0ed",
   "metadata": {},
   "outputs": [
    {
     "name": "stdout",
     "output_type": "stream",
     "text": [
      "Results: \n",
      "ChatGPT: \t0.17510204081632652\n",
      "Claude: \t0.2016326530612245\n",
      "Gemini: \t0.18244897959183673\n",
      "\n"
     ]
    }
   ],
   "source": [
    "# compute hamming loss. hamm_loss has 0 if the prediction is perfect and goes to 1 \n",
    "r_gp = sm.hamming_loss(gold, gpt4o)\n",
    "r_cl = sm.hamming_loss(gold, claude)\n",
    "r_go = sm.hamming_loss(gold, gemini)\n",
    "\n",
    "print(f\"Results: \\nChatGPT: \\t{r_gp}\\nClaude: \\t{r_cl}\\nGemini: \\t{r_go}\\n\")"
   ]
  },
  {
   "cell_type": "code",
   "execution_count": 235,
   "id": "eac73890-4555-4aca-8370-815fbfdf31b1",
   "metadata": {},
   "outputs": [],
   "source": [
    "gold = pd.DataFrame(gold, columns=mlb.classes_)\n",
    "gpt4o = pd.DataFrame(gpt4o, columns=mlb.classes_)\n",
    "gemini = pd.DataFrame(gemini, columns=mlb.classes_)\n",
    "claude = pd.DataFrame(claude, columns=mlb.classes_)"
   ]
  },
  {
   "cell_type": "code",
   "execution_count": 236,
   "id": "2a21c31b-2bcf-4bd7-bfa9-0cbbbe41286e",
   "metadata": {},
   "outputs": [
    {
     "name": "stdout",
     "output_type": "stream",
     "text": [
      "*** ACCURACY ***\n",
      "\n",
      "**gpt4o**\n",
      "AGITATION: 0.93\n",
      "ANGER: 0.95\n",
      "FEAR: 0.91\n",
      "JOY: 0.75\n",
      "LOVE: 0.72\n",
      "SADNESS: 0.75\n",
      "NONE: 0.76\n",
      "\n",
      "**claude**\n",
      "AGITATION: 0.93\n",
      "ANGER: 0.93\n",
      "FEAR: 0.84\n",
      "JOY: 0.69\n",
      "LOVE: 0.75\n",
      "SADNESS: 0.69\n",
      "NONE: 0.75\n",
      "\n",
      "**gemini**\n",
      "AGITATION: 0.93\n",
      "ANGER: 0.93\n",
      "FEAR: 0.91\n",
      "JOY: 0.76\n",
      "LOVE: 0.74\n",
      "SADNESS: 0.75\n",
      "NONE: 0.7\n",
      "\n"
     ]
    }
   ],
   "source": [
    "print(\"*** ACCURACY ***\\n\")\n",
    "\n",
    "for modelname, modelresults in zip(['gpt4o', 'claude', 'gemini'], [gpt4o, claude, gemini]):\n",
    "    print(f\"**{modelname}**\")\n",
    "    for emotion in emotions:\n",
    "        print(f\"{emotion}: {round(accuracy_score(gold[emotion], modelresults[emotion]), 2)}\")\n",
    "    print()\n"
   ]
  },
  {
   "cell_type": "code",
   "execution_count": 237,
   "id": "74620241-b0fb-4428-9a6b-4c7362683ed3",
   "metadata": {},
   "outputs": [
    {
     "name": "stdout",
     "output_type": "stream",
     "text": [
      "*** PRECISION ***\n",
      "\n",
      "**gpt4o**\n",
      "AGITATION: nan\n",
      "ANGER: 0.43\n",
      "FEAR: 0.17\n",
      "JOY: 0.5\n",
      "LOVE: 0.48\n",
      "SADNESS: 0.52\n",
      "NONE: 0.86\n",
      "\n",
      "**claude**\n",
      "AGITATION: nan\n",
      "ANGER: 0.27\n",
      "FEAR: 0.11\n",
      "JOY: 0.42\n",
      "LOVE: 0.53\n",
      "SADNESS: 0.45\n",
      "NONE: 0.93\n",
      "\n",
      "**gemini**\n",
      "AGITATION: nan\n",
      "ANGER: 0.26\n",
      "FEAR: 0.12\n",
      "JOY: 0.53\n",
      "LOVE: 0.51\n",
      "SADNESS: 0.51\n",
      "NONE: 0.73\n",
      "\n"
     ]
    }
   ],
   "source": [
    "\n",
    "print(\"*** PRECISION ***\\n\")\n",
    "\n",
    "for modelname, modelresults in zip(['gpt4o', 'claude', 'gemini'], [gpt4o, claude, gemini]):\n",
    "    print(f\"**{modelname}**\")\n",
    "    for emotion in emotions:\n",
    "        print(f\"{emotion}: {round(sm.precision_score(gold[emotion], modelresults[emotion], zero_division=np.nan), 2)}\")\n",
    "    print()\n"
   ]
  },
  {
   "cell_type": "code",
   "execution_count": 238,
   "id": "e173ee67-1fed-4905-8cf7-54412bf10fa9",
   "metadata": {},
   "outputs": [
    {
     "name": "stdout",
     "output_type": "stream",
     "text": [
      "*** RECALL ***\n",
      "\n",
      "**gpt4o**\n",
      "AGITATION: 0.0\n",
      "ANGER: 0.43\n",
      "FEAR: 0.42\n",
      "JOY: 0.51\n",
      "LOVE: 0.68\n",
      "SADNESS: 0.77\n",
      "NONE: 0.44\n",
      "\n",
      "**claude**\n",
      "AGITATION: 0.0\n",
      "ANGER: 0.5\n",
      "FEAR: 0.5\n",
      "JOY: 0.58\n",
      "LOVE: 0.76\n",
      "SADNESS: 0.77\n",
      "NONE: 0.38\n",
      "\n",
      "**gemini**\n",
      "AGITATION: 0.0\n",
      "ANGER: 0.36\n",
      "FEAR: 0.25\n",
      "JOY: 0.53\n",
      "LOVE: 0.72\n",
      "SADNESS: 0.68\n",
      "NONE: 0.33\n",
      "\n"
     ]
    }
   ],
   "source": [
    "print(\"*** RECALL ***\\n\")\n",
    "\n",
    "for modelname, modelresults in zip(['gpt4o', 'claude', 'gemini'], [gpt4o, claude, gemini]):\n",
    "    print(f\"**{modelname}**\")\n",
    "    for emotion in emotions:\n",
    "        print(f\"{emotion}: {round(sm.recall_score(gold[emotion], modelresults[emotion]), 2)}\")\n",
    "    print()"
   ]
  },
  {
   "cell_type": "code",
   "execution_count": 239,
   "id": "55644371-6954-4fcd-8ad3-22a5d1684401",
   "metadata": {},
   "outputs": [
    {
     "name": "stdout",
     "output_type": "stream",
     "text": [
      "*** F1-SCORE ***\n",
      "\n",
      "**gpt4o**\n",
      "AGITATION: 0.0\n",
      "ANGER: 0.43\n",
      "FEAR: 0.24\n",
      "JOY: 0.5\n",
      "LOVE: 0.57\n",
      "SADNESS: 0.62\n",
      "NONE: 0.58\n",
      "\n",
      "**claude**\n",
      "AGITATION: 0.0\n",
      "ANGER: 0.35\n",
      "FEAR: 0.18\n",
      "JOY: 0.49\n",
      "LOVE: 0.62\n",
      "SADNESS: 0.57\n",
      "NONE: 0.53\n",
      "\n",
      "**gemini**\n",
      "AGITATION: 0.0\n",
      "ANGER: 0.3\n",
      "FEAR: 0.16\n",
      "JOY: 0.53\n",
      "LOVE: 0.6\n",
      "SADNESS: 0.59\n",
      "NONE: 0.46\n",
      "\n"
     ]
    }
   ],
   "source": [
    "print(\"*** F1-SCORE ***\\n\")\n",
    "\n",
    "for modelname, modelresults in zip(['gpt4o', 'claude', 'gemini'], [gpt4o, claude, gemini]):\n",
    "    print(f\"**{modelname}**\")\n",
    "    for emotion in emotions:\n",
    "        print(f\"{emotion}: {round(f1_score(gold[emotion], modelresults[emotion]), 2)}\")\n",
    "    print()\n"
   ]
  },
  {
   "cell_type": "code",
   "execution_count": 241,
   "id": "205f956d-4049-43cc-a04f-750ad110fb8e",
   "metadata": {},
   "outputs": [],
   "source": [
    "#how good is an ensemble approach here?\n",
    "#ensemble = compute_ensemble(dr)\n",
    "#accuracy_score(dr.gold, ensemble)"
   ]
  },
  {
   "cell_type": "code",
   "execution_count": 242,
   "id": "6243a003-56c8-4c71-83c9-1cad7d5469c5",
   "metadata": {},
   "outputs": [],
   "source": [
    "dr.to_csv(data_dir / \"exp_1_gen_sample_short_prompt.csv\", sep='\\t')"
   ]
  },
  {
   "cell_type": "markdown",
   "id": "209d2e4b-dac9-4e19-83b8-2de32cb22fcd",
   "metadata": {},
   "source": [
    "## 2. Experiment: General Sampling. Long prompt."
   ]
  },
  {
   "cell_type": "code",
   "execution_count": 19,
   "id": "ecb2e17b-b585-42f3-95bb-0da74b6c56a6",
   "metadata": {},
   "outputs": [],
   "source": [
    "models = {}\n",
    "#models['gpt4o'] = ChatOpenAI(model_name = 'gpt-4o')\n",
    "#models['gemini'] = ChatGoogleGenerativeAI(model=\"gemini-1.5-pro\")  #gemini-1.5-pro\n",
    "models['claude'] = ChatAnthropic(model='claude-3-5-sonnet-20240620')\n"
   ]
  },
  {
   "cell_type": "code",
   "execution_count": null,
   "id": "62b6686c-9868-42df-abe1-09983f3dcbab",
   "metadata": {},
   "outputs": [],
   "source": [
    "start = time.time()\n",
    "all_responses = {}            #collect all raw answers from llms\n",
    "start_nr = 228     #allows to start at specific point, if the process was interrupted before\n",
    "cnt = 0\n",
    "\n",
    "with open(f\"logging_2_exp_{date_string()}.txt\", \"w\") as fout:\n",
    "\n",
    "    for model_label, model in tqdm_notebook(models.items()):  \n",
    "        responses = []            #list of llm responses\n",
    "        chain = long_prompt | model | StrOutputParser()   #create langchain pipeline\n",
    "        \n",
    "        for lnr, row in tqdm_notebook(df_gen.iterrows()):     \n",
    "            if start_nr <= cnt:            \n",
    "                try:\n",
    "                    response = chain.invoke({\n",
    "                                        \"stanza\": {row.Text},\n",
    "                                        \"context\": {row.Context}, \n",
    "                                    }) #get answer from llm with the \n",
    "                except InternalServerError:\n",
    "                    print(f\"Internal Server Error at line {lnr}\")\n",
    "        \n",
    "                responses.append(response)\n",
    "                fout.write(f\"{lnr}: {response}\\n\\n\")\n",
    "            cnt += 1\n",
    "    \n",
    "        all_responses[model_label] = responses\n",
    "\n",
    "end = time.time()\n",
    "duration = end - start\n",
    "print(f\"\\n\\ntime: {duration} (secs)\")"
   ]
  },
  {
   "cell_type": "markdown",
   "id": "321aba9c-5458-4ccf-81aa-4f18794c0c2f",
   "metadata": {},
   "source": [
    "## 3. Experiment: Stratified Sampling. Short Prompt."
   ]
  },
  {
   "cell_type": "markdown",
   "id": "1f7761b5-aed7-4fb1-8bb9-ff7da4d1cec0",
   "metadata": {},
   "source": [
    "### Running the experiment"
   ]
  },
  {
   "cell_type": "code",
   "execution_count": 243,
   "id": "c0b9148f-4940-413d-8492-43813eac3fc6",
   "metadata": {},
   "outputs": [
    {
     "data": {
      "application/vnd.jupyter.widget-view+json": {
       "model_id": "e432091d629d4ae1a5b700b1776fe733",
       "version_major": 2,
       "version_minor": 0
      },
      "text/plain": [
       "  0%|          | 0/3 [00:00<?, ?it/s]"
      ]
     },
     "metadata": {},
     "output_type": "display_data"
    },
    {
     "data": {
      "application/vnd.jupyter.widget-view+json": {
       "model_id": "36c019c63dca4bd1ae585386eeded45d",
       "version_major": 2,
       "version_minor": 0
      },
      "text/plain": [
       "0it [00:00, ?it/s]"
      ]
     },
     "metadata": {},
     "output_type": "display_data"
    },
    {
     "data": {
      "application/vnd.jupyter.widget-view+json": {
       "model_id": "20d4e1003fb84f308c4db1366d9f4dbe",
       "version_major": 2,
       "version_minor": 0
      },
      "text/plain": [
       "0it [00:00, ?it/s]"
      ]
     },
     "metadata": {},
     "output_type": "display_data"
    },
    {
     "data": {
      "application/vnd.jupyter.widget-view+json": {
       "model_id": "3e6c6d640eac4bc0881c20f5be636184",
       "version_major": 2,
       "version_minor": 0
      },
      "text/plain": [
       "0it [00:00, ?it/s]"
      ]
     },
     "metadata": {},
     "output_type": "display_data"
    },
    {
     "name": "stdout",
     "output_type": "stream",
     "text": [
      "\n",
      "\n",
      "time: 1659.6629469394684 (secs)\n"
     ]
    }
   ],
   "source": [
    "start = time.time()\n",
    "all_responses = {}            #collect all raw answers from llms\n",
    "\n",
    "for model_label, model in tqdm_notebook(models.items()):  \n",
    "    responses = []            #list of llm responses\n",
    "    chain = short_prompt | model | StrOutputParser()   #create langchain pipeline\n",
    "    \n",
    "    for lnr, row in tqdm_notebook(df_strat.iterrows()):     \n",
    "        \n",
    "        try:\n",
    "            response = chain.invoke({\n",
    "                                \"stanza\": {row.Text},\n",
    "                                \"context\": {row.Context}, \n",
    "                            }) #get answer from llm with the \n",
    "        except InternalServerError:\n",
    "            print(f\"Internal Server Error at line {lnr}\")\n",
    "\n",
    "        responses.append(response)\n",
    "\n",
    "    all_responses[model_label] = responses\n",
    "\n",
    "end = time.time()\n",
    "duration = end - start\n",
    "print(f\"\\n\\ntime: {duration} (secs)\")"
   ]
  },
  {
   "cell_type": "markdown",
   "id": "cb694dca-b23c-49cc-8a31-c81e5d032d66",
   "metadata": {},
   "source": [
    "### Evaluation"
   ]
  },
  {
   "cell_type": "code",
   "execution_count": 258,
   "id": "098b2f50-9554-431f-9d81-b73e9f6216ba",
   "metadata": {},
   "outputs": [
    {
     "data": {
      "text/html": [
       "<div>\n",
       "<style scoped>\n",
       "    .dataframe tbody tr th:only-of-type {\n",
       "        vertical-align: middle;\n",
       "    }\n",
       "\n",
       "    .dataframe tbody tr th {\n",
       "        vertical-align: top;\n",
       "    }\n",
       "\n",
       "    .dataframe thead th {\n",
       "        text-align: right;\n",
       "    }\n",
       "</style>\n",
       "<table border=\"1\" class=\"dataframe\">\n",
       "  <thead>\n",
       "    <tr style=\"text-align: right;\">\n",
       "      <th></th>\n",
       "      <th>gpt4o</th>\n",
       "      <th>gemini</th>\n",
       "      <th>claude</th>\n",
       "      <th>gold</th>\n",
       "    </tr>\n",
       "  </thead>\n",
       "  <tbody>\n",
       "    <tr>\n",
       "      <th>0</th>\n",
       "      <td>[LOVE, JOY]</td>\n",
       "      <td>[LOVE, SADNESS]</td>\n",
       "      <td>[JOY, LOVE]</td>\n",
       "      <td>[JOY, LOVE]</td>\n",
       "    </tr>\n",
       "    <tr>\n",
       "      <th>1</th>\n",
       "      <td>[LOVE]</td>\n",
       "      <td>[LOVE, SADNESS]</td>\n",
       "      <td>[NONE]</td>\n",
       "      <td>[NONE]</td>\n",
       "    </tr>\n",
       "    <tr>\n",
       "      <th>2</th>\n",
       "      <td>[NONE]</td>\n",
       "      <td>[NONE]</td>\n",
       "      <td>[NONE]</td>\n",
       "      <td>[NONE]</td>\n",
       "    </tr>\n",
       "    <tr>\n",
       "      <th>3</th>\n",
       "      <td>[LOVE, JOY]</td>\n",
       "      <td>[JOY, LOVE]</td>\n",
       "      <td>[JOY, LOVE]</td>\n",
       "      <td>[JOY, LOVE]</td>\n",
       "    </tr>\n",
       "    <tr>\n",
       "      <th>4</th>\n",
       "      <td>[SADNESS, LOVE]</td>\n",
       "      <td>[LOVE, SADNESS]</td>\n",
       "      <td>[LOVE, SADNESS]</td>\n",
       "      <td>[JOY, SADNESS]</td>\n",
       "    </tr>\n",
       "    <tr>\n",
       "      <th>...</th>\n",
       "      <td>...</td>\n",
       "      <td>...</td>\n",
       "      <td>...</td>\n",
       "      <td>...</td>\n",
       "    </tr>\n",
       "    <tr>\n",
       "      <th>345</th>\n",
       "      <td>[SADNESS]</td>\n",
       "      <td>[ANGER, SADNESS]</td>\n",
       "      <td>[ANGER, SADNESS]</td>\n",
       "      <td>[AGITATION, ANGER]</td>\n",
       "    </tr>\n",
       "    <tr>\n",
       "      <th>346</th>\n",
       "      <td>[SADNESS, LOVE]</td>\n",
       "      <td>[SADNESS, LOVE]</td>\n",
       "      <td>[FEAR, SADNESS]</td>\n",
       "      <td>[FEAR]</td>\n",
       "    </tr>\n",
       "    <tr>\n",
       "      <th>347</th>\n",
       "      <td>[FEAR, SADNESS]</td>\n",
       "      <td>[SADNESS, FEAR]</td>\n",
       "      <td>[SADNESS]</td>\n",
       "      <td>[SADNESS]</td>\n",
       "    </tr>\n",
       "    <tr>\n",
       "      <th>348</th>\n",
       "      <td>[LOVE, SADNESS]</td>\n",
       "      <td>[LOVE, SADNESS]</td>\n",
       "      <td>[LOVE, SADNESS]</td>\n",
       "      <td>[NONE]</td>\n",
       "    </tr>\n",
       "    <tr>\n",
       "      <th>349</th>\n",
       "      <td>[FEAR]</td>\n",
       "      <td>[FEAR, SADNESS]</td>\n",
       "      <td>[FEAR, SADNESS]</td>\n",
       "      <td>[FEAR]</td>\n",
       "    </tr>\n",
       "  </tbody>\n",
       "</table>\n",
       "<p>350 rows × 4 columns</p>\n",
       "</div>"
      ],
      "text/plain": [
       "               gpt4o            gemini            claude                gold\n",
       "0        [LOVE, JOY]   [LOVE, SADNESS]       [JOY, LOVE]         [JOY, LOVE]\n",
       "1             [LOVE]   [LOVE, SADNESS]            [NONE]              [NONE]\n",
       "2             [NONE]            [NONE]            [NONE]              [NONE]\n",
       "3        [LOVE, JOY]       [JOY, LOVE]       [JOY, LOVE]         [JOY, LOVE]\n",
       "4    [SADNESS, LOVE]   [LOVE, SADNESS]   [LOVE, SADNESS]      [JOY, SADNESS]\n",
       "..               ...               ...               ...                 ...\n",
       "345        [SADNESS]  [ANGER, SADNESS]  [ANGER, SADNESS]  [AGITATION, ANGER]\n",
       "346  [SADNESS, LOVE]   [SADNESS, LOVE]   [FEAR, SADNESS]              [FEAR]\n",
       "347  [FEAR, SADNESS]   [SADNESS, FEAR]         [SADNESS]           [SADNESS]\n",
       "348  [LOVE, SADNESS]   [LOVE, SADNESS]   [LOVE, SADNESS]              [NONE]\n",
       "349           [FEAR]   [FEAR, SADNESS]   [FEAR, SADNESS]              [FEAR]\n",
       "\n",
       "[350 rows x 4 columns]"
      ]
     },
     "execution_count": 258,
     "metadata": {},
     "output_type": "execute_result"
    }
   ],
   "source": [
    "dr = pd.DataFrame(all_responses)\n",
    "dr['gold'] = df_strat.label.values\n",
    "#for some reason we have to remove the white space in the answers from gemini\n",
    "dr.gemini = dr.gemini.str.rstrip(' \\n')\n",
    "dr.to_csv(\"results_exp_3_raw.tsv\", sep='\\t')\n",
    "\n",
    "#clean up the responses\n",
    "emo_str = 'AGITATION|ANGER|FEAR|JOY|LOVE|SADNESS|NONE'\n",
    "dr.gpt4o = dr.gpt4o.str.findall(emo_str)\n",
    "dr.gemini = dr.gemini.str.findall(emo_str)\n",
    "\n",
    "#claude answers contains the same category repeatedly, so we need to create a set of values\n",
    "dr.claude = dr.claude.str.findall(emo_str)\n",
    "buffer = []\n",
    "for entry in dr.claude.values:\n",
    "    try:\n",
    "        buffer.append(list(set(entry)))\n",
    "    except TypeError:\n",
    "        buffer.append(entry)\n",
    "\n",
    "dr.claude =  buffer\n",
    "\n",
    "dr.gold = dr.gold.str.split('#')\n",
    "\n",
    "dr"
   ]
  },
  {
   "cell_type": "code",
   "execution_count": 259,
   "id": "9aee1d1c-6634-4b22-b124-1ed9da2ec8c5",
   "metadata": {},
   "outputs": [],
   "source": [
    "mlb = MultiLabelBinarizer()\n",
    "\n",
    "mlb.fit([emotions])\n",
    "gold = mlb.transform(dr.gold)\n",
    "gpt4o = mlb.transform(dr.gpt4o)\n",
    "claude = mlb.transform(dr.claude)\n",
    "gemini = mlb.transform(dr.gemini)"
   ]
  },
  {
   "cell_type": "code",
   "execution_count": 260,
   "id": "95eb65d7-b198-4df5-aceb-3bd107c53fc6",
   "metadata": {},
   "outputs": [],
   "source": [
    "gold = pd.DataFrame(gold, columns=mlb.classes_)\n",
    "gpt4o = pd.DataFrame(gpt4o, columns=mlb.classes_)\n",
    "gemini = pd.DataFrame(gemini, columns=mlb.classes_)\n",
    "claude = pd.DataFrame(claude, columns=mlb.classes_)"
   ]
  },
  {
   "cell_type": "code",
   "execution_count": 261,
   "id": "26de917d-0869-48b7-afd8-14a0a8d157fb",
   "metadata": {},
   "outputs": [
    {
     "data": {
      "text/plain": [
       "AGITATION     64\n",
       "ANGER         68\n",
       "FEAR          64\n",
       "JOY          124\n",
       "LOVE         124\n",
       "NONE          50\n",
       "SADNESS      125\n",
       "dtype: int64"
      ]
     },
     "execution_count": 261,
     "metadata": {},
     "output_type": "execute_result"
    }
   ],
   "source": [
    "gold.sum()"
   ]
  },
  {
   "cell_type": "code",
   "execution_count": 262,
   "id": "612b4985-8430-46f5-9041-12807f5e1907",
   "metadata": {},
   "outputs": [
    {
     "data": {
      "text/html": [
       "<div>\n",
       "<style scoped>\n",
       "    .dataframe tbody tr th:only-of-type {\n",
       "        vertical-align: middle;\n",
       "    }\n",
       "\n",
       "    .dataframe tbody tr th {\n",
       "        vertical-align: top;\n",
       "    }\n",
       "\n",
       "    .dataframe thead th {\n",
       "        text-align: right;\n",
       "    }\n",
       "</style>\n",
       "<table border=\"1\" class=\"dataframe\">\n",
       "  <thead>\n",
       "    <tr style=\"text-align: right;\">\n",
       "      <th></th>\n",
       "      <th>AGITATION</th>\n",
       "      <th>ANGER</th>\n",
       "      <th>FEAR</th>\n",
       "      <th>JOY</th>\n",
       "      <th>LOVE</th>\n",
       "      <th>NONE</th>\n",
       "      <th>SADNESS</th>\n",
       "    </tr>\n",
       "  </thead>\n",
       "  <tbody>\n",
       "    <tr>\n",
       "      <th>0</th>\n",
       "      <td>0</td>\n",
       "      <td>0</td>\n",
       "      <td>0</td>\n",
       "      <td>1</td>\n",
       "      <td>1</td>\n",
       "      <td>0</td>\n",
       "      <td>0</td>\n",
       "    </tr>\n",
       "    <tr>\n",
       "      <th>1</th>\n",
       "      <td>0</td>\n",
       "      <td>0</td>\n",
       "      <td>0</td>\n",
       "      <td>0</td>\n",
       "      <td>1</td>\n",
       "      <td>0</td>\n",
       "      <td>0</td>\n",
       "    </tr>\n",
       "    <tr>\n",
       "      <th>2</th>\n",
       "      <td>0</td>\n",
       "      <td>0</td>\n",
       "      <td>0</td>\n",
       "      <td>0</td>\n",
       "      <td>0</td>\n",
       "      <td>1</td>\n",
       "      <td>0</td>\n",
       "    </tr>\n",
       "    <tr>\n",
       "      <th>3</th>\n",
       "      <td>0</td>\n",
       "      <td>0</td>\n",
       "      <td>0</td>\n",
       "      <td>1</td>\n",
       "      <td>1</td>\n",
       "      <td>0</td>\n",
       "      <td>0</td>\n",
       "    </tr>\n",
       "    <tr>\n",
       "      <th>4</th>\n",
       "      <td>0</td>\n",
       "      <td>0</td>\n",
       "      <td>0</td>\n",
       "      <td>0</td>\n",
       "      <td>1</td>\n",
       "      <td>0</td>\n",
       "      <td>1</td>\n",
       "    </tr>\n",
       "    <tr>\n",
       "      <th>...</th>\n",
       "      <td>...</td>\n",
       "      <td>...</td>\n",
       "      <td>...</td>\n",
       "      <td>...</td>\n",
       "      <td>...</td>\n",
       "      <td>...</td>\n",
       "      <td>...</td>\n",
       "    </tr>\n",
       "    <tr>\n",
       "      <th>345</th>\n",
       "      <td>0</td>\n",
       "      <td>0</td>\n",
       "      <td>0</td>\n",
       "      <td>0</td>\n",
       "      <td>0</td>\n",
       "      <td>0</td>\n",
       "      <td>1</td>\n",
       "    </tr>\n",
       "    <tr>\n",
       "      <th>346</th>\n",
       "      <td>0</td>\n",
       "      <td>0</td>\n",
       "      <td>0</td>\n",
       "      <td>0</td>\n",
       "      <td>1</td>\n",
       "      <td>0</td>\n",
       "      <td>1</td>\n",
       "    </tr>\n",
       "    <tr>\n",
       "      <th>347</th>\n",
       "      <td>0</td>\n",
       "      <td>0</td>\n",
       "      <td>1</td>\n",
       "      <td>0</td>\n",
       "      <td>0</td>\n",
       "      <td>0</td>\n",
       "      <td>1</td>\n",
       "    </tr>\n",
       "    <tr>\n",
       "      <th>348</th>\n",
       "      <td>0</td>\n",
       "      <td>0</td>\n",
       "      <td>0</td>\n",
       "      <td>0</td>\n",
       "      <td>1</td>\n",
       "      <td>0</td>\n",
       "      <td>1</td>\n",
       "    </tr>\n",
       "    <tr>\n",
       "      <th>349</th>\n",
       "      <td>0</td>\n",
       "      <td>0</td>\n",
       "      <td>1</td>\n",
       "      <td>0</td>\n",
       "      <td>0</td>\n",
       "      <td>0</td>\n",
       "      <td>0</td>\n",
       "    </tr>\n",
       "  </tbody>\n",
       "</table>\n",
       "<p>350 rows × 7 columns</p>\n",
       "</div>"
      ],
      "text/plain": [
       "     AGITATION  ANGER  FEAR  JOY  LOVE  NONE  SADNESS\n",
       "0            0      0     0    1     1     0        0\n",
       "1            0      0     0    0     1     0        0\n",
       "2            0      0     0    0     0     1        0\n",
       "3            0      0     0    1     1     0        0\n",
       "4            0      0     0    0     1     0        1\n",
       "..         ...    ...   ...  ...   ...   ...      ...\n",
       "345          0      0     0    0     0     0        1\n",
       "346          0      0     0    0     1     0        1\n",
       "347          0      0     1    0     0     0        1\n",
       "348          0      0     0    0     1     0        1\n",
       "349          0      0     1    0     0     0        0\n",
       "\n",
       "[350 rows x 7 columns]"
      ]
     },
     "execution_count": 262,
     "metadata": {},
     "output_type": "execute_result"
    }
   ],
   "source": [
    "gpt4o"
   ]
  },
  {
   "cell_type": "code",
   "execution_count": 263,
   "id": "d9f578f6-532d-43eb-b701-7a762f0b9012",
   "metadata": {},
   "outputs": [
    {
     "name": "stdout",
     "output_type": "stream",
     "text": [
      "*** ACCURACY ***\n",
      "\n",
      "**gpt4o**\n",
      "AGITATION: 0.82\n",
      "ANGER: 0.85\n",
      "FEAR: 0.87\n",
      "JOY: 0.69\n",
      "LOVE: 0.73\n",
      "SADNESS: 0.73\n",
      "NONE: 0.87\n",
      "\n",
      "**claude**\n",
      "AGITATION: 0.82\n",
      "ANGER: 0.84\n",
      "FEAR: 0.83\n",
      "JOY: 0.68\n",
      "LOVE: 0.75\n",
      "SADNESS: 0.67\n",
      "NONE: 0.89\n",
      "\n",
      "**gemini**\n",
      "AGITATION: 0.82\n",
      "ANGER: 0.86\n",
      "FEAR: 0.87\n",
      "JOY: 0.7\n",
      "LOVE: 0.74\n",
      "SADNESS: 0.73\n",
      "NONE: 0.87\n",
      "\n"
     ]
    }
   ],
   "source": [
    "print(\"*** ACCURACY ***\\n\")\n",
    "\n",
    "for modelname, modelresults in zip(['gpt4o', 'claude', 'gemini'], [gpt4o, claude, gemini]):\n",
    "    print(f\"**{modelname}**\")\n",
    "    for emotion in emotions:\n",
    "        print(f\"{emotion}: {round(accuracy_score(gold[emotion], modelresults[emotion]), 2)}\")\n",
    "    print()\n"
   ]
  },
  {
   "cell_type": "code",
   "execution_count": 264,
   "id": "2c77da81-525a-43d9-80f5-7f718969b660",
   "metadata": {},
   "outputs": [
    {
     "name": "stdout",
     "output_type": "stream",
     "text": [
      "*** PRECISION ***\n",
      "\n",
      "**gpt4o**\n",
      "AGITATION: nan\n",
      "ANGER: 0.79\n",
      "FEAR: 0.67\n",
      "JOY: 0.58\n",
      "LOVE: 0.62\n",
      "SADNESS: 0.59\n",
      "NONE: 0.59\n",
      "\n",
      "**claude**\n",
      "AGITATION: nan\n",
      "ANGER: 0.7\n",
      "FEAR: 0.53\n",
      "JOY: 0.56\n",
      "LOVE: 0.64\n",
      "SADNESS: 0.53\n",
      "NONE: 0.78\n",
      "\n",
      "**gemini**\n",
      "AGITATION: nan\n",
      "ANGER: 0.77\n",
      "FEAR: 0.68\n",
      "JOY: 0.62\n",
      "LOVE: 0.62\n",
      "SADNESS: 0.6\n",
      "NONE: 0.6\n",
      "\n"
     ]
    }
   ],
   "source": [
    "print(\"*** PRECISION ***\\n\")\n",
    "\n",
    "for modelname, modelresults in zip(['gpt4o', 'claude', 'gemini'], [gpt4o, claude, gemini]):\n",
    "    print(f\"**{modelname}**\")\n",
    "    for emotion in emotions:\n",
    "        print(f\"{emotion}: {round(sm.precision_score(gold[emotion], modelresults[emotion], zero_division=np.nan), 2)}\")\n",
    "    print()\n"
   ]
  },
  {
   "cell_type": "code",
   "execution_count": 265,
   "id": "38a4421d-da78-4469-a639-420fd47d17f0",
   "metadata": {},
   "outputs": [
    {
     "name": "stdout",
     "output_type": "stream",
     "text": [
      "*** RECALL ***\n",
      "\n",
      "**gpt4o**\n",
      "AGITATION: 0.0\n",
      "ANGER: 0.32\n",
      "FEAR: 0.62\n",
      "JOY: 0.4\n",
      "LOVE: 0.65\n",
      "SADNESS: 0.77\n",
      "NONE: 0.34\n",
      "\n",
      "**claude**\n",
      "AGITATION: 0.0\n",
      "ANGER: 0.34\n",
      "FEAR: 0.56\n",
      "JOY: 0.51\n",
      "LOVE: 0.69\n",
      "SADNESS: 0.79\n",
      "NONE: 0.36\n",
      "\n",
      "**gemini**\n",
      "AGITATION: 0.0\n",
      "ANGER: 0.4\n",
      "FEAR: 0.56\n",
      "JOY: 0.42\n",
      "LOVE: 0.68\n",
      "SADNESS: 0.71\n",
      "NONE: 0.3\n",
      "\n"
     ]
    }
   ],
   "source": [
    "print(\"*** RECALL ***\\n\")\n",
    "\n",
    "for modelname, modelresults in zip(['gpt4o', 'claude', 'gemini'], [gpt4o, claude, gemini]):\n",
    "    print(f\"**{modelname}**\")\n",
    "    for emotion in emotions:\n",
    "        print(f\"{emotion}: {round(sm.recall_score(gold[emotion], modelresults[emotion]), 2)}\")\n",
    "    print()"
   ]
  },
  {
   "cell_type": "code",
   "execution_count": 266,
   "id": "20544bba-78a6-46f3-a562-8ab5fe3611ac",
   "metadata": {},
   "outputs": [
    {
     "name": "stdout",
     "output_type": "stream",
     "text": [
      "*** F1-SCORE ***\n",
      "\n",
      "**gpt4o**\n",
      "AGITATION: 0.0\n",
      "ANGER: 0.46\n",
      "FEAR: 0.65\n",
      "JOY: 0.48\n",
      "LOVE: 0.63\n",
      "SADNESS: 0.67\n",
      "NONE: 0.43\n",
      "\n",
      "**claude**\n",
      "AGITATION: 0.0\n",
      "ANGER: 0.46\n",
      "FEAR: 0.55\n",
      "JOY: 0.53\n",
      "LOVE: 0.66\n",
      "SADNESS: 0.63\n",
      "NONE: 0.49\n",
      "\n",
      "**gemini**\n",
      "AGITATION: 0.0\n",
      "ANGER: 0.52\n",
      "FEAR: 0.62\n",
      "JOY: 0.5\n",
      "LOVE: 0.65\n",
      "SADNESS: 0.65\n",
      "NONE: 0.4\n",
      "\n"
     ]
    }
   ],
   "source": [
    "print(\"*** F1-SCORE ***\\n\")\n",
    "\n",
    "for modelname, modelresults in zip(['gpt4o', 'claude', 'gemini'], [gpt4o, claude, gemini]):\n",
    "    print(f\"**{modelname}**\")\n",
    "    for emotion in emotions:\n",
    "        print(f\"{emotion}: {round(f1_score(gold[emotion], modelresults[emotion]), 2)}\")\n",
    "    print()\n"
   ]
  },
  {
   "cell_type": "code",
   "execution_count": 267,
   "id": "d39d46cd-3fcf-4ed8-abf1-00ac727d8df0",
   "metadata": {},
   "outputs": [
    {
     "name": "stdout",
     "output_type": "stream",
     "text": [
      "*** Cohen Kappa ***\n",
      "\n",
      "**gpt4o**\n",
      "AGITATION: 0.0\n",
      "ANGER: 0.39\n",
      "FEAR: 0.57\n",
      "JOY: 0.26\n",
      "LOVE: 0.42\n",
      "SADNESS: 0.44\n",
      "NONE: 0.36\n",
      "\n",
      "**claude**\n",
      "AGITATION: 0.0\n",
      "ANGER: 0.38\n",
      "FEAR: 0.44\n",
      "JOY: 0.29\n",
      "LOVE: 0.47\n",
      "SADNESS: 0.36\n",
      "NONE: 0.44\n",
      "\n",
      "**gemini**\n",
      "AGITATION: 0.0\n",
      "ANGER: 0.45\n",
      "FEAR: 0.54\n",
      "JOY: 0.3\n",
      "LOVE: 0.44\n",
      "SADNESS: 0.43\n",
      "NONE: 0.34\n",
      "\n"
     ]
    }
   ],
   "source": [
    "print(\"*** Cohen Kappa ***\\n\")\n",
    "\n",
    "for modelname, modelresults in zip(['gpt4o', 'claude', 'gemini'], [gpt4o, claude, gemini]):\n",
    "    print(f\"**{modelname}**\")\n",
    "    for emotion in emotions:\n",
    "        print(f\"{emotion}: {round(sm.cohen_kappa_score(gold[emotion], modelresults[emotion]), 2)}\")\n",
    "    print()\n"
   ]
  },
  {
   "cell_type": "markdown",
   "id": "8d6ea3fe-fd6a-4c07-802b-8367a32fde9d",
   "metadata": {},
   "source": [
    "## 4. Experiment: Stratified Sampling. Long Prompt."
   ]
  },
  {
   "cell_type": "code",
   "execution_count": 415,
   "id": "4a2b98af-e277-43cf-9133-a2f2b2172b96",
   "metadata": {},
   "outputs": [],
   "source": [
    "models = {}\n",
    "#models['gpt4o'] = ChatOpenAI(model_name = 'gpt-4o')\n",
    "#models['gemini'] = ChatGoogleGenerativeAI(model=\"gemini-1.5-pro\")  #gemini-1.5-pro\n",
    "models['claude'] = ChatAnthropic(model='claude-3-5-sonnet-20240620')\n"
   ]
  },
  {
   "cell_type": "code",
   "execution_count": null,
   "id": "af9d724a-46d8-478f-8bce-b9fe0eb2058c",
   "metadata": {
    "scrolled": true
   },
   "outputs": [],
   "source": [
    "start = time.time()\n",
    "all_responses = {}            #collect all raw answers from llms\n",
    "start_nr = 64                  #allows to start later at a specific point, if the process was interrupted before\n",
    "cnt = 0\n",
    "\n",
    "with open(f\"logging_2_exp_{date_string()}.txt\", \"w\") as fout:\n",
    "\n",
    "    for model_label, model in tqdm_notebook(models.items()):  \n",
    "        print(model_label)\n",
    "        responses = []            #list of llm responses\n",
    "        chain = long_prompt | model | StrOutputParser()   #create langchain pipeline\n",
    "        \n",
    "        for lnr, row in tqdm_notebook(df_strat.iterrows()):     \n",
    "            if start_nr <= cnt:            \n",
    "                try:\n",
    "                    response = chain.invoke({\n",
    "                                        \"stanza\": {row.Text},\n",
    "                                        \"context\": {row.Context}, \n",
    "                                    }) #get answer from llm with the \n",
    "                except InternalServerError:\n",
    "                    print(f\"Internal Server Error at line {lnr}\")\n",
    "                except RateLimitError:\n",
    "                    print(f\"RateLimitError with model {model_label}.\\nCounter:  {cnt}\")\n",
    "                    print(\"Starting next model...\")\n",
    "                    break\n",
    "        \n",
    "                responses.append(response)\n",
    "                fout.write(f\"{lnr}: {response}\\n\\n\")\n",
    "                time.sleep(2)\n",
    "            cnt += 1\n",
    "    \n",
    "        all_responses[model_label] = responses\n",
    "\n",
    "end = time.time()\n",
    "duration = end - start\n",
    "print(f\"\\n\\ntime: {duration} (secs)\")"
   ]
  },
  {
   "cell_type": "code",
   "execution_count": null,
   "id": "ae8581e5-379e-4c92-84fd-31fb80aea1d3",
   "metadata": {},
   "outputs": [],
   "source": []
  },
  {
   "cell_type": "markdown",
   "id": "7157d115-2c8c-4a99-9ec8-4960845c2ba0",
   "metadata": {},
   "source": [
    "### Evaluation "
   ]
  },
  {
   "cell_type": "code",
   "execution_count": 407,
   "id": "edc78a7d-ab06-400d-85b0-2bd0e164a0be",
   "metadata": {},
   "outputs": [
    {
     "data": {
      "text/html": [
       "<div>\n",
       "<style scoped>\n",
       "    .dataframe tbody tr th:only-of-type {\n",
       "        vertical-align: middle;\n",
       "    }\n",
       "\n",
       "    .dataframe tbody tr th {\n",
       "        vertical-align: top;\n",
       "    }\n",
       "\n",
       "    .dataframe thead th {\n",
       "        text-align: right;\n",
       "    }\n",
       "</style>\n",
       "<table border=\"1\" class=\"dataframe\">\n",
       "  <thead>\n",
       "    <tr style=\"text-align: right;\">\n",
       "      <th></th>\n",
       "      <th>gpt4o</th>\n",
       "      <th>gemini</th>\n",
       "      <th>gold</th>\n",
       "    </tr>\n",
       "  </thead>\n",
       "  <tbody>\n",
       "    <tr>\n",
       "      <th>1269</th>\n",
       "      <td>ANNOTATION: JOY#LOVE\\nREASONING: The stanza co...</td>\n",
       "      <td>ANNOTATION: LOVE#SADNESS\\nREASONING: The stanz...</td>\n",
       "      <td>JOY#LOVE</td>\n",
       "    </tr>\n",
       "    <tr>\n",
       "      <th>4189</th>\n",
       "      <td>ANNOTATION: NONE\\nREASONING: The stanza contai...</td>\n",
       "      <td>ANNOTATION: NONE\\nREASONING: The stanza contai...</td>\n",
       "      <td>NONE</td>\n",
       "    </tr>\n",
       "  </tbody>\n",
       "</table>\n",
       "</div>"
      ],
      "text/plain": [
       "                                                  gpt4o  \\\n",
       "1269  ANNOTATION: JOY#LOVE\\nREASONING: The stanza co...   \n",
       "4189  ANNOTATION: NONE\\nREASONING: The stanza contai...   \n",
       "\n",
       "                                                 gemini      gold  \n",
       "1269  ANNOTATION: LOVE#SADNESS\\nREASONING: The stanz...  JOY#LOVE  \n",
       "4189  ANNOTATION: NONE\\nREASONING: The stanza contai...      NONE  "
      ]
     },
     "execution_count": 407,
     "metadata": {},
     "output_type": "execute_result"
    }
   ],
   "source": [
    "dr = pd.DataFrame(all_responses, index=df_strat.index)\n",
    "dr['gold'] = df_strat.label.values\n",
    "#for some reason we have to remove the white space in the answers from gemini\n",
    "dr.gemini = dr.gemini.str.rstrip(' \\n')\n",
    "dr.to_csv(\"results_exp_4_raw.tsv\", sep='\\t')\n",
    "dr.head(2)\n"
   ]
  },
  {
   "cell_type": "code",
   "execution_count": 408,
   "id": "8a597785-5f47-41d0-b221-2240d39725e3",
   "metadata": {},
   "outputs": [
    {
     "data": {
      "text/html": [
       "<div>\n",
       "<style scoped>\n",
       "    .dataframe tbody tr th:only-of-type {\n",
       "        vertical-align: middle;\n",
       "    }\n",
       "\n",
       "    .dataframe tbody tr th {\n",
       "        vertical-align: top;\n",
       "    }\n",
       "\n",
       "    .dataframe thead th {\n",
       "        text-align: right;\n",
       "    }\n",
       "</style>\n",
       "<table border=\"1\" class=\"dataframe\">\n",
       "  <thead>\n",
       "    <tr style=\"text-align: right;\">\n",
       "      <th></th>\n",
       "      <th>gpt4o</th>\n",
       "      <th>gemini</th>\n",
       "      <th>gold</th>\n",
       "    </tr>\n",
       "  </thead>\n",
       "  <tbody>\n",
       "    <tr>\n",
       "      <th>1269</th>\n",
       "      <td>[JOY, LOVE]</td>\n",
       "      <td>[LOVE, SADNESS]</td>\n",
       "      <td>[JOY, LOVE]</td>\n",
       "    </tr>\n",
       "    <tr>\n",
       "      <th>4189</th>\n",
       "      <td>[NONE]</td>\n",
       "      <td>[NONE]</td>\n",
       "      <td>[NONE]</td>\n",
       "    </tr>\n",
       "    <tr>\n",
       "      <th>1990</th>\n",
       "      <td>[NONE]</td>\n",
       "      <td>[NONE]</td>\n",
       "      <td>[NONE]</td>\n",
       "    </tr>\n",
       "    <tr>\n",
       "      <th>2252</th>\n",
       "      <td>[JOY, LOVE]</td>\n",
       "      <td>NaN</td>\n",
       "      <td>[JOY, LOVE]</td>\n",
       "    </tr>\n",
       "    <tr>\n",
       "      <th>6571</th>\n",
       "      <td>[SADNESS, LOVE]</td>\n",
       "      <td>[SADNESS, LOVE]</td>\n",
       "      <td>[JOY, SADNESS]</td>\n",
       "    </tr>\n",
       "  </tbody>\n",
       "</table>\n",
       "</div>"
      ],
      "text/plain": [
       "                gpt4o           gemini            gold\n",
       "1269      [JOY, LOVE]  [LOVE, SADNESS]     [JOY, LOVE]\n",
       "4189           [NONE]           [NONE]          [NONE]\n",
       "1990           [NONE]           [NONE]          [NONE]\n",
       "2252      [JOY, LOVE]              NaN     [JOY, LOVE]\n",
       "6571  [SADNESS, LOVE]  [SADNESS, LOVE]  [JOY, SADNESS]"
      ]
     },
     "execution_count": 408,
     "metadata": {},
     "output_type": "execute_result"
    }
   ],
   "source": [
    "\n",
    "#clean up the responses\n",
    "dr.gpt4o = extract_terms(dr.gpt4o)\n",
    "dr.gemini = extract_terms(dr.gemini)\n",
    "#dr.claude = extract_terms(dr.claude)\n",
    "\n",
    "dr.gold = dr.gold.str.split('#')\n",
    "\n",
    "dr.head()"
   ]
  },
  {
   "cell_type": "code",
   "execution_count": 410,
   "id": "6bb916dc-7a46-42c6-b60b-87b1f34d85d4",
   "metadata": {},
   "outputs": [],
   "source": [
    "mlb = MultiLabelBinarizer()\n",
    "\n",
    "mlb.fit([emotions])\n",
    "gold = mlb.transform(dr.gold)\n",
    "gpt4o = mlb.transform(dr.gpt4o)\n",
    "#claude = mlb.transform(dr.claude)\n",
    "#gemini = mlb.transform(dr.gemini)"
   ]
  },
  {
   "cell_type": "code",
   "execution_count": 411,
   "id": "f73ccd71-55cb-4f9f-abf0-23d9cb27e916",
   "metadata": {},
   "outputs": [],
   "source": [
    "gold = pd.DataFrame(gold, columns=mlb.classes_)\n",
    "gpt4o = pd.DataFrame(gpt4o, columns=mlb.classes_)\n",
    "#gemini = pd.DataFrame(gemini, columns=mlb.classes_)\n",
    "#claude = pd.DataFrame(claude, columns=mlb.classes_)"
   ]
  },
  {
   "cell_type": "code",
   "execution_count": null,
   "id": "2dddc28c-cf5f-4f17-9318-86b9a7cc7393",
   "metadata": {},
   "outputs": [],
   "source": [
    "print(\"*** F1-SCORE ***\\n\")\n",
    "\n",
    "for modelname, modelresults in zip(['gpt4o', 'claude', 'gemini'], [gpt4o, claude, gemini]):\n",
    "    print(f\"**{modelname}**\")\n",
    "    for emotion in emotions:\n",
    "        print(f\"{emotion}: {round(f1_score(gold[emotion], modelresults[emotion]), 2)}\")\n",
    "    print()\n"
   ]
  },
  {
   "cell_type": "code",
   "execution_count": 412,
   "id": "fec6471d-8db3-43c2-b0f0-a79751ba1953",
   "metadata": {},
   "outputs": [
    {
     "name": "stdout",
     "output_type": "stream",
     "text": [
      "**gpt4o**\n",
      "AGITATION: 0.19\n",
      "ANGER: 0.66\n",
      "FEAR: 0.66\n",
      "JOY: 0.6\n",
      "LOVE: 0.68\n",
      "SADNESS: 0.71\n",
      "NONE: 0.55\n",
      "\n"
     ]
    }
   ],
   "source": [
    "for modelname, modelresults in zip(['gpt4o'], [gpt4o]):\n",
    "    print(f\"**{modelname}**\")\n",
    "    for emotion in emotions:\n",
    "        print(f\"{emotion}: {round(f1_score(gold[emotion], modelresults[emotion]), 2)}\")\n",
    "    print()\n"
   ]
  },
  {
   "cell_type": "markdown",
   "id": "acee2f6c-f7ed-44f5-a607-8a14bcf91f3f",
   "metadata": {},
   "source": [
    "## 5. Experiment: Binary Classification. Stratified Sampling. Short/Long Prompt. "
   ]
  },
  {
   "cell_type": "code",
   "execution_count": 9,
   "id": "2cfaf8a2-75a8-4a35-80de-2042b870d693",
   "metadata": {},
   "outputs": [],
   "source": [
    "model = ChatOpenAI(model_name = 'gpt-4o')"
   ]
  },
  {
   "cell_type": "markdown",
   "id": "2e047ead-921c-442f-acad-fe495b4d1f4a",
   "metadata": {},
   "source": [
    "### Prompt"
   ]
  },
  {
   "cell_type": "code",
   "execution_count": 68,
   "id": "923e528e-06e6-4e7d-bea0-6de499ea1266",
   "metadata": {},
   "outputs": [],
   "source": [
    "#short prompt template used in Exp. 1, 3. The placeholders 'stanza' and 'context' are filled when the template is called.\n",
    "short_binary_prompt_text = \"\"\"Your task is to annotate the representation of a specific emotion in a stanza of a poem, the emotion {emotion}.\n",
    "\n",
    "A stanza can represent this one emotion {emotion}, or it represents either other emotions or no emotions. \n",
    "If {emotion} is present, annotate the stanza with the label {emotion}. If the emotion is not present, label this stanza as OTHER. \n",
    "\n",
    "Here is the stanza\n",
    "\n",
    "{stanza}\n",
    "\n",
    "Take into account that the stanza is part of a poem that reads like this before the stanza just quoted:\n",
    "\n",
    "{context}\n",
    "\n",
    "In your answer, don't repeat the stanza or the text in your answer! Only use the label {emotion} or OTHER in your answer.\n",
    "Use capital letters for the labels.\n",
    "\n",
    "\"\"\"\n",
    "\n",
    "short_binary_prompt = ChatPromptTemplate.from_template(short_binary_prompt_text)"
   ]
  },
  {
   "cell_type": "markdown",
   "id": "70df83d2-c475-4797-a13f-99bf8d590769",
   "metadata": {},
   "source": [
    "###  Running the experiment \n",
    "Data creation is done in the experimental loop"
   ]
  },
  {
   "cell_type": "code",
   "execution_count": 19,
   "id": "b1ebc138-b5dc-4a09-ac7c-fcd6694b6733",
   "metadata": {},
   "outputs": [
    {
     "data": {
      "application/vnd.jupyter.widget-view+json": {
       "model_id": "6d0152876c09489e95659b3dc813a7c4",
       "version_major": 2,
       "version_minor": 0
      },
      "text/plain": [
       "  0%|          | 0/6 [00:00<?, ?it/s]"
      ]
     },
     "metadata": {},
     "output_type": "display_data"
    },
    {
     "data": {
      "application/vnd.jupyter.widget-view+json": {
       "model_id": "7deaaff70efc4e9b82ee7596499488bb",
       "version_major": 2,
       "version_minor": 0
      },
      "text/plain": [
       "0it [00:00, ?it/s]"
      ]
     },
     "metadata": {},
     "output_type": "display_data"
    },
    {
     "data": {
      "application/vnd.jupyter.widget-view+json": {
       "model_id": "19fc9ac8380c4ca59192a322761e7968",
       "version_major": 2,
       "version_minor": 0
      },
      "text/plain": [
       "0it [00:00, ?it/s]"
      ]
     },
     "metadata": {},
     "output_type": "display_data"
    },
    {
     "data": {
      "application/vnd.jupyter.widget-view+json": {
       "model_id": "71e279cbcaa44decb91250727daa8177",
       "version_major": 2,
       "version_minor": 0
      },
      "text/plain": [
       "0it [00:00, ?it/s]"
      ]
     },
     "metadata": {},
     "output_type": "display_data"
    },
    {
     "data": {
      "application/vnd.jupyter.widget-view+json": {
       "model_id": "eeee036a7b644ed8b6c78cdb6e0163a4",
       "version_major": 2,
       "version_minor": 0
      },
      "text/plain": [
       "0it [00:00, ?it/s]"
      ]
     },
     "metadata": {},
     "output_type": "display_data"
    },
    {
     "data": {
      "application/vnd.jupyter.widget-view+json": {
       "model_id": "1220b153cd7c4ec9b6ae965950797b63",
       "version_major": 2,
       "version_minor": 0
      },
      "text/plain": [
       "0it [00:00, ?it/s]"
      ]
     },
     "metadata": {},
     "output_type": "display_data"
    },
    {
     "data": {
      "application/vnd.jupyter.widget-view+json": {
       "model_id": "4f98ced2de52413883ee199806de1ad5",
       "version_major": 2,
       "version_minor": 0
      },
      "text/plain": [
       "0it [00:00, ?it/s]"
      ]
     },
     "metadata": {},
     "output_type": "display_data"
    },
    {
     "name": "stdout",
     "output_type": "stream",
     "text": [
      "\n",
      "\n",
      "time: 425.36023354530334 (secs)\n"
     ]
    }
   ],
   "source": [
    "emotion_list = ['Agitation','Anger', 'Fear', 'Joy', 'Love', 'Sadness']\n",
    "\n",
    "start = time.time()\n",
    "all_responses = {}            #collect all raw answers from llms\n",
    "start_nr = 0                  #allows to start later at a specific point, if the process was interrupted before\n",
    "cnt = 0\n",
    "\n",
    "with open(f\"logging_5_exp_{date_string()}.txt\", \"w\") as fout:\n",
    "\n",
    "    for emotion in tqdm_notebook(emotion_list):\n",
    "        #build testdata    \n",
    "        dfs_1 = df_strat[df_strat[emotion]==1.0].sample(n=60, random_state=42)\n",
    "        dfs_2 = df_strat[df_strat[emotion]==0.0].sample(n=60, random_state=42)\n",
    "        df_select = pd.concat([dfs_1, dfs_2])\n",
    "        df_select = df_select.sample(n=len(df_select), random_state=1239)\n",
    "        df_select.to_csv(f'bc_{emotion}.csv', sep='\\t')\n",
    "        fout.write(f\"emotion: {emotion.upper()}\\n\\n\") \n",
    "        \n",
    "        responses = []            #list of llm responses\n",
    "        chain = short_binary_prompt | model | StrOutputParser()   #create langchain pipeline\n",
    "            \n",
    "        for lnr, row in tqdm_notebook(df_select.iterrows()):     \n",
    "            response = chain.invoke({\n",
    "                                \"stanza\": {row.Text},\n",
    "                                \"context\": {row.Context},\n",
    "                                \"emotion\": {emotion.upper()}\n",
    "                            }) #get answer from llm with the \n",
    "    \n",
    "            responses.append(response)\n",
    "            fout.write(f\"{lnr}: {response}\\n\\n\")\n",
    "    \n",
    "        all_responses[emotion] = responses\n",
    "\n",
    "end = time.time()\n",
    "duration = end - start\n",
    "print(f\"\\n\\ntime: {duration} (secs)\")"
   ]
  },
  {
   "cell_type": "markdown",
   "id": "4f8f9672-4bfe-42b0-b981-1c117f88d40d",
   "metadata": {},
   "source": [
    "## 6. Experiment: *Strict* binary classification"
   ]
  },
  {
   "cell_type": "markdown",
   "id": "897c1a46-d5d4-4ceb-b4ee-53ac0c3e3669",
   "metadata": {},
   "source": [
    "Is there a correlation between the amount of other emotions in a category and the classification performance? If this is the case, the classification results should change markedly, when we use a strict binary classification- We us the term 'strict binary' to refer to a setup, where we make sure that each text segment either shows emotion A (*and only this emotion*) or doesn't show emotion A (*could be None or any other emotion*). \n",
    "\n",
    "As many stanzas have more than one emotion, first we have to make sure that we have enough examples for these"
   ]
  },
  {
   "cell_type": "code",
   "execution_count": 71,
   "id": "f11f53ff-43a3-43dc-96bc-3ae585524fab",
   "metadata": {},
   "outputs": [],
   "source": [
    "model = ChatOpenAI(model_name = 'gpt-4o')"
   ]
  },
  {
   "cell_type": "markdown",
   "id": "33e99a2d-22fe-4193-868d-2761c5fee686",
   "metadata": {},
   "source": [
    "### Prompt"
   ]
  },
  {
   "cell_type": "code",
   "execution_count": 69,
   "id": "e6e29ddd-4b62-4853-8be0-2302c4d3731d",
   "metadata": {},
   "outputs": [],
   "source": [
    "#short prompt template used in Exp. 1, 3. The placeholders 'stanza' and 'context' are filled when the template is called.\n",
    "short_binary_prompt_text = \"\"\"Your task is to annotate the representation of a specific emotion in a stanza of a poem, the emotion {emotion}.\n",
    "\n",
    "A stanza can represent this one emotion {emotion}, or it represents either other emotions or no emotions. \n",
    "If {emotion} is present, annotate the stanza with the label {emotion}. If the emotion is not present, label this stanza as OTHER. \n",
    "\n",
    "Here is the stanza\n",
    "\n",
    "{stanza}\n",
    "\n",
    "Take into account that the stanza is part of a poem that reads like this before the stanza just quoted:\n",
    "\n",
    "{context}\n",
    "\n",
    "In your answer, don't repeat the stanza or the text in your answer! Only use the label {emotion} or OTHER in your answer.\n",
    "Use capital letters for the labels.\n",
    "\n",
    "\"\"\"\n",
    "\n",
    "short_binary_prompt = ChatPromptTemplate.from_template(short_binary_prompt_text)"
   ]
  },
  {
   "cell_type": "markdown",
   "id": "1dad126c-b8bd-4e0b-917e-5b42839de19a",
   "metadata": {},
   "source": [
    "### Data Preparation"
   ]
  },
  {
   "cell_type": "code",
   "execution_count": 133,
   "id": "5febbb02-1d01-4319-bb3a-2f37074c185e",
   "metadata": {},
   "outputs": [],
   "source": [
    "emotions = ['Agitation','Anger', 'Fear', 'Joy', 'Love', 'Sadness']"
   ]
  },
  {
   "cell_type": "code",
   "execution_count": 53,
   "id": "8be41809-ca41-4096-b511-8346b42bc42a",
   "metadata": {},
   "outputs": [
    {
     "name": "stdout",
     "output_type": "stream",
     "text": [
      "3017\n"
     ]
    }
   ],
   "source": [
    "    \n",
    "    \n",
    "print(len(no_emotions(df, sample_size='max')))"
   ]
  },
  {
   "cell_type": "code",
   "execution_count": 135,
   "id": "5d296d56-d8a8-4cd1-ace3-203f1ad60ad5",
   "metadata": {},
   "outputs": [],
   "source": [
    "data = {}\n",
    "length = 6\n",
    "SAMPLE_SIZE=60\n",
    "for i, emotion in enumerate(emotions):\n",
    "    values = length*[0]\n",
    "    values[i] = 1\n",
    "    #get one emotion=1 and all other emotions=0\n",
    "    data[emotion] = df.query(f\"Agitation=={values[0]} and \\\n",
    "                     Anger=={values[1]} and \\\n",
    "                     Fear=={values[2]} and \\\n",
    "                     Joy=={values[3]} and \\\n",
    "                     Love=={values[4]} and \\\n",
    "                     Sadness=={values[5]}\").sample(n=SAMPLE_SIZE, random_state=42)\n",
    "\n",
    "    #negative category:\n",
    "    df_none = df.query(f\"{emotion}==0.\").sample(n=SAMPLE_SIZE, random_state=43)\n",
    "    data[emotion] = pd.concat([data[emotion], df_none]).sample(n=2*SAMPLE_SIZE, random_state=43)\n"
   ]
  },
  {
   "cell_type": "code",
   "execution_count": 137,
   "id": "b91c7450-d9c5-4b9c-8c5a-ac28e982a85a",
   "metadata": {},
   "outputs": [
    {
     "data": {
      "text/plain": [
       "120"
      ]
     },
     "execution_count": 137,
     "metadata": {},
     "output_type": "execute_result"
    }
   ],
   "source": [
    "#sanity check\n",
    "len(data['Love'])"
   ]
  },
  {
   "cell_type": "markdown",
   "id": "6808ef66-6091-40ba-8626-9893c6cc113b",
   "metadata": {},
   "source": [
    "### Running the experiment"
   ]
  },
  {
   "cell_type": "code",
   "execution_count": 138,
   "id": "6137d40d-452c-40da-a32a-c143edb55ac3",
   "metadata": {},
   "outputs": [
    {
     "data": {
      "application/vnd.jupyter.widget-view+json": {
       "model_id": "71af44d465124d099a28313b2ef27290",
       "version_major": 2,
       "version_minor": 0
      },
      "text/plain": [
       "  0%|          | 0/6 [00:00<?, ?it/s]"
      ]
     },
     "metadata": {},
     "output_type": "display_data"
    },
    {
     "data": {
      "application/vnd.jupyter.widget-view+json": {
       "model_id": "6d24a2df6f774372913d685704d2daf6",
       "version_major": 2,
       "version_minor": 0
      },
      "text/plain": [
       "0it [00:00, ?it/s]"
      ]
     },
     "metadata": {},
     "output_type": "display_data"
    },
    {
     "data": {
      "application/vnd.jupyter.widget-view+json": {
       "model_id": "2723e1c7f6664d489f7f333f99c6ad85",
       "version_major": 2,
       "version_minor": 0
      },
      "text/plain": [
       "0it [00:00, ?it/s]"
      ]
     },
     "metadata": {},
     "output_type": "display_data"
    },
    {
     "data": {
      "application/vnd.jupyter.widget-view+json": {
       "model_id": "af74a69bfd8c49fa9cbada2dd2d2b815",
       "version_major": 2,
       "version_minor": 0
      },
      "text/plain": [
       "0it [00:00, ?it/s]"
      ]
     },
     "metadata": {},
     "output_type": "display_data"
    },
    {
     "data": {
      "application/vnd.jupyter.widget-view+json": {
       "model_id": "94aa05fdb4ad4bcd81d4b55c77cdf904",
       "version_major": 2,
       "version_minor": 0
      },
      "text/plain": [
       "0it [00:00, ?it/s]"
      ]
     },
     "metadata": {},
     "output_type": "display_data"
    },
    {
     "data": {
      "application/vnd.jupyter.widget-view+json": {
       "model_id": "ef22ce08604d415592b002e94ba12891",
       "version_major": 2,
       "version_minor": 0
      },
      "text/plain": [
       "0it [00:00, ?it/s]"
      ]
     },
     "metadata": {},
     "output_type": "display_data"
    },
    {
     "data": {
      "application/vnd.jupyter.widget-view+json": {
       "model_id": "19923eee2e3c4c629a88fe4ac4a13024",
       "version_major": 2,
       "version_minor": 0
      },
      "text/plain": [
       "0it [00:00, ?it/s]"
      ]
     },
     "metadata": {},
     "output_type": "display_data"
    },
    {
     "name": "stdout",
     "output_type": "stream",
     "text": [
      "\n",
      "\n",
      "time: 376.23755621910095 (secs)\n"
     ]
    }
   ],
   "source": [
    "emotion_list = ['Agitation','Anger', 'Fear', 'Joy', 'Love', 'Sadness']\n",
    "\n",
    "start = time.time()\n",
    "all_responses = {}            #collect all raw answers from llms\n",
    "start_nr = 0                  #allows to start later at a specific point, if the process was interrupted before\n",
    "cnt = 0\n",
    "\n",
    "with open(f\"logging_6_exp_{date_string()}.txt\", \"w\") as fout:\n",
    "\n",
    "    for emotion in tqdm_notebook(emotion_list):\n",
    "        df_select = data[emotion]\n",
    "        df_select.to_csv(f'bcs_{emotion}.csv', sep='\\t')\n",
    "        fout.write(f\"emotion: {emotion.upper()}\\n\\n\") \n",
    "        \n",
    "        responses = []            #list of llm responses\n",
    "        chain = short_binary_prompt | model | StrOutputParser()   #create langchain pipeline\n",
    "            \n",
    "        for lnr, row in tqdm_notebook(df_select.iterrows()):     \n",
    "            response = chain.invoke({\n",
    "                                \"stanza\": {row.Text},\n",
    "                                \"context\": {row.Context},\n",
    "                                \"emotion\": {emotion.upper()}\n",
    "                            }) #get answer from llm with the \n",
    "    \n",
    "            responses.append(response)\n",
    "            fout.write(f\"{lnr}: {response}\\n\\n\")\n",
    "    \n",
    "        all_responses[emotion] = responses\n",
    "\n",
    "end = time.time()\n",
    "duration = end - start\n",
    "print(f\"\\n\\ntime: {duration} (secs)\")"
   ]
  },
  {
   "cell_type": "markdown",
   "id": "393c1894-59e2-4430-bbbe-d837708a0dae",
   "metadata": {},
   "source": [
    "### Evaluation"
   ]
  },
  {
   "cell_type": "code",
   "execution_count": 139,
   "id": "dc462da5-aa78-48d8-b76f-716203edd306",
   "metadata": {},
   "outputs": [
    {
     "data": {
      "text/html": [
       "<div>\n",
       "<style scoped>\n",
       "    .dataframe tbody tr th:only-of-type {\n",
       "        vertical-align: middle;\n",
       "    }\n",
       "\n",
       "    .dataframe tbody tr th {\n",
       "        vertical-align: top;\n",
       "    }\n",
       "\n",
       "    .dataframe thead th {\n",
       "        text-align: right;\n",
       "    }\n",
       "</style>\n",
       "<table border=\"1\" class=\"dataframe\">\n",
       "  <thead>\n",
       "    <tr style=\"text-align: right;\">\n",
       "      <th></th>\n",
       "      <th>Agitation</th>\n",
       "      <th>Anger</th>\n",
       "      <th>Fear</th>\n",
       "      <th>Joy</th>\n",
       "      <th>Love</th>\n",
       "      <th>Sadness</th>\n",
       "    </tr>\n",
       "  </thead>\n",
       "  <tbody>\n",
       "    <tr>\n",
       "      <th>0</th>\n",
       "      <td>OTHER</td>\n",
       "      <td>OTHER</td>\n",
       "      <td>OTHER</td>\n",
       "      <td>OTHER</td>\n",
       "      <td>OTHER</td>\n",
       "      <td>{'SADNESS'}</td>\n",
       "    </tr>\n",
       "    <tr>\n",
       "      <th>1</th>\n",
       "      <td>OTHER</td>\n",
       "      <td>OTHER</td>\n",
       "      <td>OTHER</td>\n",
       "      <td>{'JOY'}</td>\n",
       "      <td>OTHER</td>\n",
       "      <td>OTHER</td>\n",
       "    </tr>\n",
       "    <tr>\n",
       "      <th>2</th>\n",
       "      <td>OTHER</td>\n",
       "      <td>OTHER</td>\n",
       "      <td>OTHER</td>\n",
       "      <td>OTHER</td>\n",
       "      <td>OTHER</td>\n",
       "      <td>OTHER</td>\n",
       "    </tr>\n",
       "  </tbody>\n",
       "</table>\n",
       "</div>"
      ],
      "text/plain": [
       "  Agitation  Anger   Fear      Joy   Love      Sadness\n",
       "0     OTHER  OTHER  OTHER    OTHER  OTHER  {'SADNESS'}\n",
       "1     OTHER  OTHER  OTHER  {'JOY'}  OTHER        OTHER\n",
       "2     OTHER  OTHER  OTHER    OTHER  OTHER        OTHER"
      ]
     },
     "execution_count": 139,
     "metadata": {},
     "output_type": "execute_result"
    }
   ],
   "source": [
    "dr = pd.DataFrame(all_responses)\n",
    "dr.head(3)\n"
   ]
  },
  {
   "cell_type": "code",
   "execution_count": 140,
   "id": "8c6a3edd-1502-4644-b6e7-0fcdf2fc3dca",
   "metadata": {},
   "outputs": [],
   "source": [
    "def extract_terms(series, term):\n",
    "    return series.str.contains(f\"{term.upper()}\").astype(int)\n"
   ]
  },
  {
   "cell_type": "code",
   "execution_count": 141,
   "id": "6610c87e-d370-45b5-a427-edeb3ef4e4ab",
   "metadata": {},
   "outputs": [
    {
     "name": "stdout",
     "output_type": "stream",
     "text": [
      "Agitation: 0.52\n",
      "Anger: 0.77\n",
      "Fear: 0.79\n",
      "Joy: 0.71\n",
      "Love: 0.69\n",
      "Sadness: 0.82\n"
     ]
    }
   ],
   "source": [
    "for emotion in emotion_list:\n",
    "    score = accuracy_score(data[emotion][emotion], extract_terms(dr[emotion], emotion))\n",
    "    print(f\"{emotion}: {round(score, 2)}\")"
   ]
  },
  {
   "cell_type": "code",
   "execution_count": 142,
   "id": "959ecc60-5a0f-4a0a-a72d-5d3f0e761fe0",
   "metadata": {},
   "outputs": [
    {
     "name": "stdout",
     "output_type": "stream",
     "text": [
      "Agitation: 0.41\n",
      "Anger: 0.71\n",
      "Fear: 0.79\n",
      "Joy: 0.65\n",
      "Love: 0.66\n",
      "Sadness: 0.82\n"
     ]
    }
   ],
   "source": [
    "scores = []\n",
    "for emotion in emotion_list:\n",
    "    score = f1_score(data[emotion][emotion], extract_terms(dr[emotion], emotion))\n",
    "    print(f\"{emotion}: {round(score, 2)}\")\n",
    "    scores.append(score)"
   ]
  },
  {
   "cell_type": "code",
   "execution_count": 143,
   "id": "35d7bd77-8e51-4a88-9869-da4e37d93b74",
   "metadata": {},
   "outputs": [
    {
     "data": {
      "text/plain": [
       "Agitation    0.408163\n",
       "Anger        0.708333\n",
       "Fear         0.793388\n",
       "Joy          0.653465\n",
       "Love         0.660550\n",
       "Sadness      0.819672\n",
       "dtype: float64"
      ]
     },
     "execution_count": 143,
     "metadata": {},
     "output_type": "execute_result"
    }
   ],
   "source": [
    "bc_strict = pd.Series(scores, index=bc_loose.index)\n",
    "bc_strict.to_csv(\"results_binare_classification_negative_is_all_None.csv\")\n",
    "bc_strict"
   ]
  },
  {
   "cell_type": "code",
   "execution_count": null,
   "id": "6d6519dc-4541-4355-a079-97a7e1628259",
   "metadata": {},
   "outputs": [],
   "source": []
  },
  {
   "cell_type": "code",
   "execution_count": 144,
   "id": "c39dd7a2-6af9-4601-9f20-e52e2d6ca7b5",
   "metadata": {
    "lines_to_next_cell": 0
   },
   "outputs": [
    {
     "data": {
      "text/html": [
       "<div>\n",
       "<style scoped>\n",
       "    .dataframe tbody tr th:only-of-type {\n",
       "        vertical-align: middle;\n",
       "    }\n",
       "\n",
       "    .dataframe tbody tr th {\n",
       "        vertical-align: top;\n",
       "    }\n",
       "\n",
       "    .dataframe thead th {\n",
       "        text-align: right;\n",
       "    }\n",
       "</style>\n",
       "<table border=\"1\" class=\"dataframe\">\n",
       "  <thead>\n",
       "    <tr style=\"text-align: right;\">\n",
       "      <th></th>\n",
       "      <th>value</th>\n",
       "    </tr>\n",
       "  </thead>\n",
       "  <tbody>\n",
       "    <tr>\n",
       "      <th>Agitation</th>\n",
       "      <td>0.50</td>\n",
       "    </tr>\n",
       "    <tr>\n",
       "      <th>Anger</th>\n",
       "      <td>0.56</td>\n",
       "    </tr>\n",
       "    <tr>\n",
       "      <th>Fear</th>\n",
       "      <td>0.75</td>\n",
       "    </tr>\n",
       "    <tr>\n",
       "      <th>Joy</th>\n",
       "      <td>0.46</td>\n",
       "    </tr>\n",
       "    <tr>\n",
       "      <th>Love</th>\n",
       "      <td>0.66</td>\n",
       "    </tr>\n",
       "    <tr>\n",
       "      <th>Sadness</th>\n",
       "      <td>0.76</td>\n",
       "    </tr>\n",
       "  </tbody>\n",
       "</table>\n",
       "</div>"
      ],
      "text/plain": [
       "           value\n",
       "Agitation   0.50\n",
       "Anger       0.56\n",
       "Fear        0.75\n",
       "Joy         0.46\n",
       "Love        0.66\n",
       "Sadness     0.76"
      ]
     },
     "execution_count": 144,
     "metadata": {},
     "output_type": "execute_result"
    }
   ],
   "source": [
    "bc_loose = pd.DataFrame.from_dict({'Agitation': 0.5, 'Anger': 0.56, 'Fear': 0.75, 'Joy': 0.46, 'Love': 0.66 , 'Sadness': 0.76}, orient='index', columns=['value'])\n",
    "bc_loose"
   ]
  },
  {
   "cell_type": "markdown",
   "id": "d8588946-4a30-4c51-9b4e-fa8c6182a39f",
   "metadata": {},
   "source": []
  }
 ],
 "metadata": {
  "jupytext": {
   "formats": "ipynb,md"
  },
  "kernelspec": {
   "display_name": "Python 3 (ipykernel)",
   "language": "python",
   "name": "python3"
  },
  "language_info": {
   "codemirror_mode": {
    "name": "ipython",
    "version": 3
   },
   "file_extension": ".py",
   "mimetype": "text/x-python",
   "name": "python",
   "nbconvert_exporter": "python",
   "pygments_lexer": "ipython3",
   "version": "3.11.8"
  }
 },
 "nbformat": 4,
 "nbformat_minor": 5
}
